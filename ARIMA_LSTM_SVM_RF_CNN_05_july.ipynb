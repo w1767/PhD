{
  "nbformat": 4,
  "nbformat_minor": 0,
  "metadata": {
    "colab": {
      "name": "ARIMA_LSTM_SVM_RF_CNN_05_july.ipynb",
      "provenance": [],
      "authorship_tag": "ABX9TyONJWntvE6QXDbW9TshI4zP",
      "include_colab_link": true
    },
    "kernelspec": {
      "name": "python3",
      "display_name": "Python 3"
    },
    "language_info": {
      "name": "python"
    }
  },
  "cells": [
    {
      "cell_type": "markdown",
      "metadata": {
        "id": "view-in-github",
        "colab_type": "text"
      },
      "source": [
        "<a href=\"https://colab.research.google.com/github/w1767/PhD/blob/main/ARIMA_LSTM_SVM_RF_CNN_05_july.ipynb\" target=\"_parent\"><img src=\"https://colab.research.google.com/assets/colab-badge.svg\" alt=\"Open In Colab\"/></a>"
      ]
    },
    {
      "cell_type": "code",
      "execution_count": 1,
      "metadata": {
        "id": "N2AwRHWl4ibk",
        "colab": {
          "base_uri": "https://localhost:8080/"
        },
        "outputId": "d271ac7e-5ef1-48e4-b89a-eacd17f7f021"
      },
      "outputs": [
        {
          "output_type": "stream",
          "name": "stdout",
          "text": [
            "Looking in indexes: https://pypi.org/simple, https://us-python.pkg.dev/colab-wheels/public/simple/\n",
            "Collecting arch\n",
            "  Downloading arch-5.3.1-cp37-cp37m-manylinux_2_17_x86_64.manylinux2014_x86_64.whl (903 kB)\n",
            "\u001b[K     |████████████████████████████████| 903 kB 5.0 MB/s \n",
            "\u001b[?25hRequirement already satisfied: scipy>=1.3 in /usr/local/lib/python3.7/dist-packages (from arch) (1.4.1)\n",
            "Collecting property-cached>=1.6.4\n",
            "  Downloading property_cached-1.6.4-py2.py3-none-any.whl (7.8 kB)\n",
            "Requirement already satisfied: pandas>=1.0 in /usr/local/lib/python3.7/dist-packages (from arch) (1.3.5)\n",
            "Requirement already satisfied: numpy>=1.17 in /usr/local/lib/python3.7/dist-packages (from arch) (1.21.6)\n",
            "Collecting statsmodels>=0.11\n",
            "  Downloading statsmodels-0.13.2-cp37-cp37m-manylinux_2_17_x86_64.manylinux2014_x86_64.whl (9.8 MB)\n",
            "\u001b[K     |████████████████████████████████| 9.8 MB 41.2 MB/s \n",
            "\u001b[?25hRequirement already satisfied: pytz>=2017.3 in /usr/local/lib/python3.7/dist-packages (from pandas>=1.0->arch) (2022.1)\n",
            "Requirement already satisfied: python-dateutil>=2.7.3 in /usr/local/lib/python3.7/dist-packages (from pandas>=1.0->arch) (2.8.2)\n",
            "Requirement already satisfied: six>=1.5 in /usr/local/lib/python3.7/dist-packages (from python-dateutil>=2.7.3->pandas>=1.0->arch) (1.15.0)\n",
            "Requirement already satisfied: patsy>=0.5.2 in /usr/local/lib/python3.7/dist-packages (from statsmodels>=0.11->arch) (0.5.2)\n",
            "Requirement already satisfied: packaging>=21.3 in /usr/local/lib/python3.7/dist-packages (from statsmodels>=0.11->arch) (21.3)\n",
            "Requirement already satisfied: pyparsing!=3.0.5,>=2.0.2 in /usr/local/lib/python3.7/dist-packages (from packaging>=21.3->statsmodels>=0.11->arch) (3.0.9)\n",
            "Installing collected packages: statsmodels, property-cached, arch\n",
            "  Attempting uninstall: statsmodels\n",
            "    Found existing installation: statsmodels 0.10.2\n",
            "    Uninstalling statsmodels-0.10.2:\n",
            "      Successfully uninstalled statsmodels-0.10.2\n",
            "Successfully installed arch-5.3.1 property-cached-1.6.4 statsmodels-0.13.2\n"
          ]
        }
      ],
      "source": [
        "# importing the necessary libraries\n",
        "!pip install arch\n",
        "import tensorflow\n",
        "import glob\n",
        "import csv\n",
        "import os\n",
        "from pathlib import Path\n",
        "import pandas as pd\n",
        "from arch import arch_model\n",
        "\n",
        "#checking the business day's\n",
        "\n",
        "from pandas.tseries.offsets import BDay\n",
        "\n",
        "# suppresses future warnings\n",
        "\n",
        "import warnings\n",
        "warnings.simplefilter(action='ignore')\n",
        "\n",
        "#importing Datetime for timeseries data\n",
        "\n",
        "import datetime as dt\n",
        "from datetime import datetime, timedelta\n",
        "\n",
        "# importing matplotlib for visualisation\n",
        "# to enable the inline plotting, where \n",
        "# the plots/graphs will be displayed just below the cell where your plotting commands are written\n",
        "from matplotlib import pyplot\n",
        "import matplotlib.pyplot as plt\n",
        "%matplotlib inline\n",
        "from matplotlib import style\n",
        "\n",
        "# importing math and numpy for calculations\n",
        "\n",
        "import math\n",
        "from math import sqrt\n",
        "\n",
        "import numpy as np\n",
        "from numpy import zeros, ones, expand_dims, asarray # import arrays of zeros, ones,\n",
        "# expand dimensions and convert to arrays.\n",
        "# randint() is one of the function for doing random sampling in numpy. \n",
        "#It returns an array of specified shape and fills it with random integers\n",
        "# from low (inclusive) to high (exclusive), i.e. in the interval [low, high).\n",
        "from numpy.random import rand, randint \n",
        "\n",
        "# import statsmodel for Arima\n",
        "\n",
        "from statsmodels.tsa.arima.model import ARIMA\n",
        "from statsmodels.tsa.stattools import adfuller\n",
        "from statsmodels.graphics.tsaplots import plot_acf, plot_pacf\n",
        "\n",
        "# importing keras and its functions\n",
        "\n",
        "import keras\n",
        "from keras.models import Sequential\n",
        "from keras.layers import LSTM\n",
        "from tensorflow.python.keras.optimizer_v2 import adam\n",
        "from keras.models import Model, load_model\n",
        "from keras.layers import Input, Dense, Reshape, Flatten\n",
        "from keras.layers import Conv2D, Conv2DTranspose, Concatenate\n",
        "#Conv2DTranspose is a convolution operation whose kernel is learnt\n",
        "#(just like normal conv2d operation) while training your model.\n",
        "from keras.layers import BatchNormalization, Activation\n",
        "from keras import initializers #Kernel initializers are used to statistically initialise the weights in the model.\n",
        "from keras.initializers import RandomNormal\n",
        "from keras.optimizers import adam_v2\n",
        "from keras.layers.convolutional import Conv1D\n",
        "from keras.layers import Dense, Activation, Flatten\n",
        "from keras.models import Sequential\n",
        "from keras.utils.vis_utils import plot_model\n",
        "#The keras. utils. vis_utils module provides utility functions to plot a Keras model\n",
        "\n",
        "#importing sklean and its functions\n",
        "\n",
        "import sklearn\n",
        "from sklearn.ensemble import RandomForestRegressor\n",
        "from sklearn import metrics\n",
        "from sklearn.metrics import mean_absolute_error as MAE\n",
        "from sklearn.metrics import mean_absolute_percentage_error\n",
        "from sklearn.metrics import mean_squared_error\n",
        "from sklearn.svm import SVR\n",
        "from sklearn.model_selection import GridSearchCV\n",
        "from tensorflow.keras import layers\n",
        "#Bidirectional long-short term memory(Bidirectional LSTM)\n",
        "#is the process of making any neural network o have the sequence\n",
        "#information in both directions backwards (future to past) or forward(past to future).\n",
        "from keras.layers import Input, Dense, Reshape, Flatten, Dropout, Bidirectional, LSTM, Reshape, RepeatVector, TimeDistributed\n",
        "# for creating model and training\n",
        "import tensorflow as tf\n",
        "from tensorflow.keras.layers import Conv1D, LSTM, Dense, Dropout, Bidirectional, TimeDistributed\n",
        "#TimeDistributed layer is very useful to work with time series data or video frames. \n",
        "#It allows to use a layer for each input. That means that instead of having several input “models”,\n",
        "# we can use “one model” applied to each input. Then GRU or LSTM can help to manage the data in “time”.\n",
        "#RepeatVector is used to repeat the input for set number, n of times.\n",
        "#a dense layer is a layer that is deeply connected with its preceding layer which means the neurons of \n",
        "#the layer are connected to every neuron of its preceding layer. \n",
        "#ConvLSTM is a type of recurrent neural network for spatio-temporal prediction that has convolutional \n",
        "#structures in both the input-to-state and state-to-state transitions. \n",
        "#Return sequences refer to return the hidden state a<t>. By default, the return_sequences is set to False in Keras RNN layers,\n",
        "# and this means the RNN layer will only return the last hidden state output a<T>.\n",
        "#he Dropout layer randomly sets input units to 0 with a frequency of rate at each step during training time,\n",
        "# which helps prevent overfitting.\n",
        "\n",
        "from tensorflow.keras.layers import MaxPooling1D, Flatten\n",
        "#L2 regularization acts like a force that removes a small percentage of weights at each iteration.\n",
        "#The L1 norm that is calculated as the sum of the absolute values of the vector. The L2 norm that is calculated\n",
        "# as the square root of the sum of the squared vector values.\n",
        "from tensorflow.keras.regularizers import L1, L2\n",
        "from tensorflow.keras.metrics import Accuracy\n",
        "from tensorflow.keras.metrics import RootMeanSquaredError  \n",
        "\n",
        "\n",
        "\n",
        "\n",
        "\n",
        "\n"
      ]
    },
    {
      "cell_type": "code",
      "source": [
        "from google.colab import drive\n",
        "drive.mount('/content/drive')"
      ],
      "metadata": {
        "colab": {
          "base_uri": "https://localhost:8080/"
        },
        "id": "sdMY-omKC5H2",
        "outputId": "c20c5f97-8a1e-4732-8824-28a4d8d58065"
      },
      "execution_count": 2,
      "outputs": [
        {
          "output_type": "stream",
          "name": "stdout",
          "text": [
            "Mounted at /content/drive\n"
          ]
        }
      ]
    },
    {
      "cell_type": "code",
      "source": [
        "path = \"/content/drive/MyDrive/PhD research/VIX_daily.xlsx\" "
      ],
      "metadata": {
        "id": "irDy6qbWPC25"
      },
      "execution_count": 3,
      "outputs": []
    },
    {
      "cell_type": "code",
      "source": [
        "df=pd.read_excel(\"/content/drive/MyDrive/PhD research/VIX_daily.xlsx\", index_col = 'Date')\n",
        "df_Valid = pd.read_excel(\"/content/drive/MyDrive/PhD research/VVIX.xlsx\", index_col='Date')\n",
        " #  parse_dates=[\"Date\"],\n",
        " #  index_col=[\"Date\"]) # parse the date column and tell pandas that column 1 is a datetime)"
      ],
      "metadata": {
        "id": "yik5BWURPN9_"
      },
      "execution_count": 4,
      "outputs": []
    },
    {
      "cell_type": "code",
      "source": [
        "#print overview of datasets\n",
        "df"
      ],
      "metadata": {
        "colab": {
          "base_uri": "https://localhost:8080/",
          "height": 455
        },
        "id": "hcgB2ImRROZK",
        "outputId": "103f0878-6382-4ce0-b70e-dca74c84a25d"
      },
      "execution_count": 5,
      "outputs": [
        {
          "output_type": "execute_result",
          "data": {
            "text/plain": [
              "            Last Price\n",
              "Date                  \n",
              "2022-04-20       21.19\n",
              "2022-04-19       21.37\n",
              "2022-04-18       22.17\n",
              "2022-04-14       22.70\n",
              "2022-04-13       21.82\n",
              "...                ...\n",
              "1990-01-08       20.26\n",
              "1990-01-05       20.11\n",
              "1990-01-04       19.22\n",
              "1990-01-03       18.19\n",
              "1990-01-02       17.24\n",
              "\n",
              "[8136 rows x 1 columns]"
            ],
            "text/html": [
              "\n",
              "  <div id=\"df-e9aef156-6bee-47f2-94d8-b0d554891f4b\">\n",
              "    <div class=\"colab-df-container\">\n",
              "      <div>\n",
              "<style scoped>\n",
              "    .dataframe tbody tr th:only-of-type {\n",
              "        vertical-align: middle;\n",
              "    }\n",
              "\n",
              "    .dataframe tbody tr th {\n",
              "        vertical-align: top;\n",
              "    }\n",
              "\n",
              "    .dataframe thead th {\n",
              "        text-align: right;\n",
              "    }\n",
              "</style>\n",
              "<table border=\"1\" class=\"dataframe\">\n",
              "  <thead>\n",
              "    <tr style=\"text-align: right;\">\n",
              "      <th></th>\n",
              "      <th>Last Price</th>\n",
              "    </tr>\n",
              "    <tr>\n",
              "      <th>Date</th>\n",
              "      <th></th>\n",
              "    </tr>\n",
              "  </thead>\n",
              "  <tbody>\n",
              "    <tr>\n",
              "      <th>2022-04-20</th>\n",
              "      <td>21.19</td>\n",
              "    </tr>\n",
              "    <tr>\n",
              "      <th>2022-04-19</th>\n",
              "      <td>21.37</td>\n",
              "    </tr>\n",
              "    <tr>\n",
              "      <th>2022-04-18</th>\n",
              "      <td>22.17</td>\n",
              "    </tr>\n",
              "    <tr>\n",
              "      <th>2022-04-14</th>\n",
              "      <td>22.70</td>\n",
              "    </tr>\n",
              "    <tr>\n",
              "      <th>2022-04-13</th>\n",
              "      <td>21.82</td>\n",
              "    </tr>\n",
              "    <tr>\n",
              "      <th>...</th>\n",
              "      <td>...</td>\n",
              "    </tr>\n",
              "    <tr>\n",
              "      <th>1990-01-08</th>\n",
              "      <td>20.26</td>\n",
              "    </tr>\n",
              "    <tr>\n",
              "      <th>1990-01-05</th>\n",
              "      <td>20.11</td>\n",
              "    </tr>\n",
              "    <tr>\n",
              "      <th>1990-01-04</th>\n",
              "      <td>19.22</td>\n",
              "    </tr>\n",
              "    <tr>\n",
              "      <th>1990-01-03</th>\n",
              "      <td>18.19</td>\n",
              "    </tr>\n",
              "    <tr>\n",
              "      <th>1990-01-02</th>\n",
              "      <td>17.24</td>\n",
              "    </tr>\n",
              "  </tbody>\n",
              "</table>\n",
              "<p>8136 rows × 1 columns</p>\n",
              "</div>\n",
              "      <button class=\"colab-df-convert\" onclick=\"convertToInteractive('df-e9aef156-6bee-47f2-94d8-b0d554891f4b')\"\n",
              "              title=\"Convert this dataframe to an interactive table.\"\n",
              "              style=\"display:none;\">\n",
              "        \n",
              "  <svg xmlns=\"http://www.w3.org/2000/svg\" height=\"24px\"viewBox=\"0 0 24 24\"\n",
              "       width=\"24px\">\n",
              "    <path d=\"M0 0h24v24H0V0z\" fill=\"none\"/>\n",
              "    <path d=\"M18.56 5.44l.94 2.06.94-2.06 2.06-.94-2.06-.94-.94-2.06-.94 2.06-2.06.94zm-11 1L8.5 8.5l.94-2.06 2.06-.94-2.06-.94L8.5 2.5l-.94 2.06-2.06.94zm10 10l.94 2.06.94-2.06 2.06-.94-2.06-.94-.94-2.06-.94 2.06-2.06.94z\"/><path d=\"M17.41 7.96l-1.37-1.37c-.4-.4-.92-.59-1.43-.59-.52 0-1.04.2-1.43.59L10.3 9.45l-7.72 7.72c-.78.78-.78 2.05 0 2.83L4 21.41c.39.39.9.59 1.41.59.51 0 1.02-.2 1.41-.59l7.78-7.78 2.81-2.81c.8-.78.8-2.07 0-2.86zM5.41 20L4 18.59l7.72-7.72 1.47 1.35L5.41 20z\"/>\n",
              "  </svg>\n",
              "      </button>\n",
              "      \n",
              "  <style>\n",
              "    .colab-df-container {\n",
              "      display:flex;\n",
              "      flex-wrap:wrap;\n",
              "      gap: 12px;\n",
              "    }\n",
              "\n",
              "    .colab-df-convert {\n",
              "      background-color: #E8F0FE;\n",
              "      border: none;\n",
              "      border-radius: 50%;\n",
              "      cursor: pointer;\n",
              "      display: none;\n",
              "      fill: #1967D2;\n",
              "      height: 32px;\n",
              "      padding: 0 0 0 0;\n",
              "      width: 32px;\n",
              "    }\n",
              "\n",
              "    .colab-df-convert:hover {\n",
              "      background-color: #E2EBFA;\n",
              "      box-shadow: 0px 1px 2px rgba(60, 64, 67, 0.3), 0px 1px 3px 1px rgba(60, 64, 67, 0.15);\n",
              "      fill: #174EA6;\n",
              "    }\n",
              "\n",
              "    [theme=dark] .colab-df-convert {\n",
              "      background-color: #3B4455;\n",
              "      fill: #D2E3FC;\n",
              "    }\n",
              "\n",
              "    [theme=dark] .colab-df-convert:hover {\n",
              "      background-color: #434B5C;\n",
              "      box-shadow: 0px 1px 3px 1px rgba(0, 0, 0, 0.15);\n",
              "      filter: drop-shadow(0px 1px 2px rgba(0, 0, 0, 0.3));\n",
              "      fill: #FFFFFF;\n",
              "    }\n",
              "  </style>\n",
              "\n",
              "      <script>\n",
              "        const buttonEl =\n",
              "          document.querySelector('#df-e9aef156-6bee-47f2-94d8-b0d554891f4b button.colab-df-convert');\n",
              "        buttonEl.style.display =\n",
              "          google.colab.kernel.accessAllowed ? 'block' : 'none';\n",
              "\n",
              "        async function convertToInteractive(key) {\n",
              "          const element = document.querySelector('#df-e9aef156-6bee-47f2-94d8-b0d554891f4b');\n",
              "          const dataTable =\n",
              "            await google.colab.kernel.invokeFunction('convertToInteractive',\n",
              "                                                     [key], {});\n",
              "          if (!dataTable) return;\n",
              "\n",
              "          const docLinkHtml = 'Like what you see? Visit the ' +\n",
              "            '<a target=\"_blank\" href=https://colab.research.google.com/notebooks/data_table.ipynb>data table notebook</a>'\n",
              "            + ' to learn more about interactive tables.';\n",
              "          element.innerHTML = '';\n",
              "          dataTable['output_type'] = 'display_data';\n",
              "          await google.colab.output.renderOutput(dataTable, element);\n",
              "          const docLink = document.createElement('div');\n",
              "          docLink.innerHTML = docLinkHtml;\n",
              "          element.appendChild(docLink);\n",
              "        }\n",
              "      </script>\n",
              "    </div>\n",
              "  </div>\n",
              "  "
            ]
          },
          "metadata": {},
          "execution_count": 5
        }
      ]
    },
    {
      "cell_type": "code",
      "source": [
        "df_Valid"
      ],
      "metadata": {
        "colab": {
          "base_uri": "https://localhost:8080/",
          "height": 455
        },
        "id": "el1cWEGgRU8m",
        "outputId": "50bf95f5-9d31-4cdf-e58c-a68e70a1960c"
      },
      "execution_count": 6,
      "outputs": [
        {
          "output_type": "execute_result",
          "data": {
            "text/plain": [
              "            Last Price\n",
              "Date                  \n",
              "2022-04-20         NaN\n",
              "2022-04-19      106.06\n",
              "2022-04-18      110.90\n",
              "2022-04-14      114.75\n",
              "2022-04-13      113.76\n",
              "...                ...\n",
              "2006-03-20       37.93\n",
              "2006-03-17       28.60\n",
              "2006-03-16       27.94\n",
              "2006-03-15       15.71\n",
              "2006-03-06       71.73\n",
              "\n",
              "[3997 rows x 1 columns]"
            ],
            "text/html": [
              "\n",
              "  <div id=\"df-41db9352-5031-4e13-ba2b-83065e22c585\">\n",
              "    <div class=\"colab-df-container\">\n",
              "      <div>\n",
              "<style scoped>\n",
              "    .dataframe tbody tr th:only-of-type {\n",
              "        vertical-align: middle;\n",
              "    }\n",
              "\n",
              "    .dataframe tbody tr th {\n",
              "        vertical-align: top;\n",
              "    }\n",
              "\n",
              "    .dataframe thead th {\n",
              "        text-align: right;\n",
              "    }\n",
              "</style>\n",
              "<table border=\"1\" class=\"dataframe\">\n",
              "  <thead>\n",
              "    <tr style=\"text-align: right;\">\n",
              "      <th></th>\n",
              "      <th>Last Price</th>\n",
              "    </tr>\n",
              "    <tr>\n",
              "      <th>Date</th>\n",
              "      <th></th>\n",
              "    </tr>\n",
              "  </thead>\n",
              "  <tbody>\n",
              "    <tr>\n",
              "      <th>2022-04-20</th>\n",
              "      <td>NaN</td>\n",
              "    </tr>\n",
              "    <tr>\n",
              "      <th>2022-04-19</th>\n",
              "      <td>106.06</td>\n",
              "    </tr>\n",
              "    <tr>\n",
              "      <th>2022-04-18</th>\n",
              "      <td>110.90</td>\n",
              "    </tr>\n",
              "    <tr>\n",
              "      <th>2022-04-14</th>\n",
              "      <td>114.75</td>\n",
              "    </tr>\n",
              "    <tr>\n",
              "      <th>2022-04-13</th>\n",
              "      <td>113.76</td>\n",
              "    </tr>\n",
              "    <tr>\n",
              "      <th>...</th>\n",
              "      <td>...</td>\n",
              "    </tr>\n",
              "    <tr>\n",
              "      <th>2006-03-20</th>\n",
              "      <td>37.93</td>\n",
              "    </tr>\n",
              "    <tr>\n",
              "      <th>2006-03-17</th>\n",
              "      <td>28.60</td>\n",
              "    </tr>\n",
              "    <tr>\n",
              "      <th>2006-03-16</th>\n",
              "      <td>27.94</td>\n",
              "    </tr>\n",
              "    <tr>\n",
              "      <th>2006-03-15</th>\n",
              "      <td>15.71</td>\n",
              "    </tr>\n",
              "    <tr>\n",
              "      <th>2006-03-06</th>\n",
              "      <td>71.73</td>\n",
              "    </tr>\n",
              "  </tbody>\n",
              "</table>\n",
              "<p>3997 rows × 1 columns</p>\n",
              "</div>\n",
              "      <button class=\"colab-df-convert\" onclick=\"convertToInteractive('df-41db9352-5031-4e13-ba2b-83065e22c585')\"\n",
              "              title=\"Convert this dataframe to an interactive table.\"\n",
              "              style=\"display:none;\">\n",
              "        \n",
              "  <svg xmlns=\"http://www.w3.org/2000/svg\" height=\"24px\"viewBox=\"0 0 24 24\"\n",
              "       width=\"24px\">\n",
              "    <path d=\"M0 0h24v24H0V0z\" fill=\"none\"/>\n",
              "    <path d=\"M18.56 5.44l.94 2.06.94-2.06 2.06-.94-2.06-.94-.94-2.06-.94 2.06-2.06.94zm-11 1L8.5 8.5l.94-2.06 2.06-.94-2.06-.94L8.5 2.5l-.94 2.06-2.06.94zm10 10l.94 2.06.94-2.06 2.06-.94-2.06-.94-.94-2.06-.94 2.06-2.06.94z\"/><path d=\"M17.41 7.96l-1.37-1.37c-.4-.4-.92-.59-1.43-.59-.52 0-1.04.2-1.43.59L10.3 9.45l-7.72 7.72c-.78.78-.78 2.05 0 2.83L4 21.41c.39.39.9.59 1.41.59.51 0 1.02-.2 1.41-.59l7.78-7.78 2.81-2.81c.8-.78.8-2.07 0-2.86zM5.41 20L4 18.59l7.72-7.72 1.47 1.35L5.41 20z\"/>\n",
              "  </svg>\n",
              "      </button>\n",
              "      \n",
              "  <style>\n",
              "    .colab-df-container {\n",
              "      display:flex;\n",
              "      flex-wrap:wrap;\n",
              "      gap: 12px;\n",
              "    }\n",
              "\n",
              "    .colab-df-convert {\n",
              "      background-color: #E8F0FE;\n",
              "      border: none;\n",
              "      border-radius: 50%;\n",
              "      cursor: pointer;\n",
              "      display: none;\n",
              "      fill: #1967D2;\n",
              "      height: 32px;\n",
              "      padding: 0 0 0 0;\n",
              "      width: 32px;\n",
              "    }\n",
              "\n",
              "    .colab-df-convert:hover {\n",
              "      background-color: #E2EBFA;\n",
              "      box-shadow: 0px 1px 2px rgba(60, 64, 67, 0.3), 0px 1px 3px 1px rgba(60, 64, 67, 0.15);\n",
              "      fill: #174EA6;\n",
              "    }\n",
              "\n",
              "    [theme=dark] .colab-df-convert {\n",
              "      background-color: #3B4455;\n",
              "      fill: #D2E3FC;\n",
              "    }\n",
              "\n",
              "    [theme=dark] .colab-df-convert:hover {\n",
              "      background-color: #434B5C;\n",
              "      box-shadow: 0px 1px 3px 1px rgba(0, 0, 0, 0.15);\n",
              "      filter: drop-shadow(0px 1px 2px rgba(0, 0, 0, 0.3));\n",
              "      fill: #FFFFFF;\n",
              "    }\n",
              "  </style>\n",
              "\n",
              "      <script>\n",
              "        const buttonEl =\n",
              "          document.querySelector('#df-41db9352-5031-4e13-ba2b-83065e22c585 button.colab-df-convert');\n",
              "        buttonEl.style.display =\n",
              "          google.colab.kernel.accessAllowed ? 'block' : 'none';\n",
              "\n",
              "        async function convertToInteractive(key) {\n",
              "          const element = document.querySelector('#df-41db9352-5031-4e13-ba2b-83065e22c585');\n",
              "          const dataTable =\n",
              "            await google.colab.kernel.invokeFunction('convertToInteractive',\n",
              "                                                     [key], {});\n",
              "          if (!dataTable) return;\n",
              "\n",
              "          const docLinkHtml = 'Like what you see? Visit the ' +\n",
              "            '<a target=\"_blank\" href=https://colab.research.google.com/notebooks/data_table.ipynb>data table notebook</a>'\n",
              "            + ' to learn more about interactive tables.';\n",
              "          element.innerHTML = '';\n",
              "          dataTable['output_type'] = 'display_data';\n",
              "          await google.colab.output.renderOutput(dataTable, element);\n",
              "          const docLink = document.createElement('div');\n",
              "          docLink.innerHTML = docLinkHtml;\n",
              "          element.appendChild(docLink);\n",
              "        }\n",
              "      </script>\n",
              "    </div>\n",
              "  </div>\n",
              "  "
            ]
          },
          "metadata": {},
          "execution_count": 6
        }
      ]
    },
    {
      "cell_type": "code",
      "source": [
        "#fillinh the missing values\n",
        "# A lambda function in python is a small anonymous function that can take any number of arguments and execute an expression.\n",
        "fill_mean = lambda col : col.fillna(col.mean())\n",
        "\n",
        "df_Valid = df_Valid.apply(fill_mean, axis = 0)"
      ],
      "metadata": {
        "id": "zkG3UtBzWA_o"
      },
      "execution_count": 7,
      "outputs": []
    },
    {
      "cell_type": "code",
      "source": [
        "# printing the statistics of datafrane\n",
        "df.info()"
      ],
      "metadata": {
        "colab": {
          "base_uri": "https://localhost:8080/"
        },
        "id": "lmX5oiMUW08_",
        "outputId": "a3486f9e-7d23-4214-aa5a-c45366b94fdd"
      },
      "execution_count": 8,
      "outputs": [
        {
          "output_type": "stream",
          "name": "stdout",
          "text": [
            "<class 'pandas.core.frame.DataFrame'>\n",
            "DatetimeIndex: 8136 entries, 2022-04-20 to 1990-01-02\n",
            "Data columns (total 1 columns):\n",
            " #   Column      Non-Null Count  Dtype  \n",
            "---  ------      --------------  -----  \n",
            " 0   Last Price  8136 non-null   float64\n",
            "dtypes: float64(1)\n",
            "memory usage: 127.1 KB\n"
          ]
        }
      ]
    },
    {
      "cell_type": "code",
      "source": [
        "# checking the business day's in the dataframe\n",
        "\n",
        "isBusinessDay = BDay().onOffset\n",
        "match_series = pd.to_datetime(df.index).map(isBusinessDay)\n",
        "match_series"
      ],
      "metadata": {
        "colab": {
          "base_uri": "https://localhost:8080/"
        },
        "id": "iOKU7Aa4XjsV",
        "outputId": "4f0f3243-a953-47cd-86cf-ba04ea7adda6"
      },
      "execution_count": 9,
      "outputs": [
        {
          "output_type": "execute_result",
          "data": {
            "text/plain": [
              "Index([True, True, True, True, True, True, True, True, True, True,\n",
              "       ...\n",
              "       True, True, True, True, True, True, True, True, True, True],\n",
              "      dtype='object', name='Date', length=8136)"
            ]
          },
          "metadata": {},
          "execution_count": 9
        }
      ]
    },
    {
      "cell_type": "code",
      "source": [
        "# printing the number of unique value according to the day of the week\n",
        "#the dataset only contains the week days\n",
        "df.index.dayofweek.nunique()"
      ],
      "metadata": {
        "colab": {
          "base_uri": "https://localhost:8080/"
        },
        "id": "skY0QPtDYf67",
        "outputId": "b87a1abf-43e9-4d24-d70a-0d7d0d0e52eb"
      },
      "execution_count": 10,
      "outputs": [
        {
          "output_type": "execute_result",
          "data": {
            "text/plain": [
              "5"
            ]
          },
          "metadata": {},
          "execution_count": 10
        }
      ]
    },
    {
      "cell_type": "code",
      "source": [
        "# plotting price over time to check frequency and trend\n",
        "plt.figure(figsize=(20,10),dpi=150)\n",
        "plt.plot(df.index, df['Last Price'], color ='tab:blue')\n",
        "plt.gca().set(title='Price over time',\n",
        "xlabel='Date', ylabel='Last Price')\n",
        "plt.show()"
      ],
      "metadata": {
        "colab": {
          "base_uri": "https://localhost:8080/",
          "height": 454
        },
        "id": "4LgIyL5YZPeH",
        "outputId": "5701faec-10fd-432a-9db8-fe140453c411"
      },
      "execution_count": 11,
      "outputs": [
        {
          "output_type": "display_data",
          "data": {
            "text/plain": [
              "<Figure size 3000x1500 with 1 Axes>"
            ],
            "image/png": "[encoded data removed]"
          },
          "metadata": {
            "needs_background": "light"
          }
        }
      ]
    },
    {
      "cell_type": "code",
      "source": [
        "#determine rolling statistics\n",
        "#window size 12 denotes 12 months, giving rolling mean at yearly level\n",
        "rolmean = df['Last Price'].rolling(window=12).mean()\n",
        "rolstd = df['Last Price'].rolling(window=12).std()\n",
        "print(rolmean, rolstd\n",
        "      )"
      ],
      "metadata": {
        "colab": {
          "base_uri": "https://localhost:8080/"
        },
        "id": "ugwUvbrxZ7Rj",
        "outputId": "954eae8e-b3a0-46d6-94a7-7f2599473ded"
      },
      "execution_count": 12,
      "outputs": [
        {
          "output_type": "stream",
          "name": "stdout",
          "text": [
            "Date\n",
            "2022-04-20          NaN\n",
            "2022-04-19          NaN\n",
            "2022-04-18          NaN\n",
            "2022-04-14          NaN\n",
            "2022-04-13          NaN\n",
            "                ...    \n",
            "1990-01-08    23.544167\n",
            "1990-01-05    23.160000\n",
            "1990-01-04    22.536667\n",
            "1990-01-03    22.177500\n",
            "1990-01-02    21.585833\n",
            "Name: Last Price, Length: 8136, dtype: float64 Date\n",
            "2022-04-20         NaN\n",
            "2022-04-19         NaN\n",
            "2022-04-18         NaN\n",
            "2022-04-14         NaN\n",
            "2022-04-13         NaN\n",
            "                ...   \n",
            "1990-01-08    2.108155\n",
            "1990-01-05    2.286868\n",
            "1990-01-04    2.253419\n",
            "1990-01-03    2.579659\n",
            "1990-01-02    2.839697\n",
            "Name: Last Price, Length: 8136, dtype: float64\n"
          ]
        }
      ]
    },
    {
      "cell_type": "code",
      "source": [
        "#plot rolling statistics\n",
        "orig = plt.plot(df, color='blue', label='Original')\n",
        "mean = plt.plot(rolmean, color='red', label='Rolling Mean')\n",
        "std = plt.plot(rolstd, color='black', label='Rolling Std')\n",
        "plt.legend(loc='best')\n",
        "plt.title('Rolling Mean & Standard Deviation')\n",
        "plt.show (block=False)"
      ],
      "metadata": {
        "colab": {
          "base_uri": "https://localhost:8080/",
          "height": 281
        },
        "id": "ZWDNuntiahEk",
        "outputId": "78db7596-f737-458c-9f7e-fc52eb0942bd"
      },
      "execution_count": 13,
      "outputs": [
        {
          "output_type": "display_data",
          "data": {
            "text/plain": [
              "<Figure size 432x288 with 1 Axes>"
            ],
            "image/png": "[encoded data removed]"
          },
          "metadata": {
            "needs_background": "light"
          }
        }
      ]
    },
    {
      "cell_type": "code",
      "source": [
        "#perform augmented Dickey-Fuller test:\n",
        "print('Results of Dickey Fuller Test:')\n",
        "dftest = adfuller(df['Last Price'], autolag='AIC')\n",
        "\n",
        "dfoutput = pd.Series(dftest[0:4], index=['Test Statistic', 'p-value', '#Lags Used', 'Number of Observations Used'])\n",
        "for key, value in dftest[4].items():\n",
        "    dfoutput['Critical Value (%s)'%key] = value\n",
        "\n",
        "print(dfoutput)"
      ],
      "metadata": {
        "colab": {
          "base_uri": "https://localhost:8080/"
        },
        "id": "euuvE6IAbr8U",
        "outputId": "9669a04b-a3a4-4790-cb3b-071ec637716b"
      },
      "execution_count": 14,
      "outputs": [
        {
          "output_type": "stream",
          "name": "stdout",
          "text": [
            "Results of Dickey Fuller Test:\n",
            "Test Statistic                -6.711864e+00\n",
            "p-value                        3.663477e-09\n",
            "#Lags Used                     1.000000e+01\n",
            "Number of Observations Used    8.125000e+03\n",
            "Critical Value (1%)           -3.431155e+00\n",
            "Critical Value (5%)           -2.861896e+00\n",
            "Critical Value (10%)          -2.566959e+00\n",
            "dtype: float64\n"
          ]
        }
      ]
    },
    {
      "cell_type": "code",
      "source": [
        "#calculating returns on price\n",
        "Dataset_Return = df['Last Price'].pct_change()\n",
        "Dataset_Return"
      ],
      "metadata": {
        "colab": {
          "base_uri": "https://localhost:8080/"
        },
        "id": "qUSNCE_sgBSV",
        "outputId": "34c5de01-de6b-4efd-e2e6-35c4c46b066a"
      },
      "execution_count": 15,
      "outputs": [
        {
          "output_type": "execute_result",
          "data": {
            "text/plain": [
              "Date\n",
              "2022-04-20         NaN\n",
              "2022-04-19    0.008495\n",
              "2022-04-18    0.037436\n",
              "2022-04-14    0.023906\n",
              "2022-04-13   -0.038767\n",
              "                ...   \n",
              "1990-01-08   -0.087387\n",
              "1990-01-05   -0.007404\n",
              "1990-01-04   -0.044257\n",
              "1990-01-03   -0.053590\n",
              "1990-01-02   -0.052226\n",
              "Name: Last Price, Length: 8136, dtype: float64"
            ]
          },
          "metadata": {},
          "execution_count": 15
        }
      ]
    },
    {
      "cell_type": "code",
      "source": [
        "# calculating Log on Price column\n",
        "Dataset_logScale = np.log(df['Last Price'])\n",
        "Dataset_logScale"
      ],
      "metadata": {
        "colab": {
          "base_uri": "https://localhost:8080/"
        },
        "id": "I1fUOZC7iEuz",
        "outputId": "62abdff8-ebde-42e5-87a3-7f42d1b77c57"
      },
      "execution_count": 16,
      "outputs": [
        {
          "output_type": "execute_result",
          "data": {
            "text/plain": [
              "Date\n",
              "2022-04-20    3.053529\n",
              "2022-04-19    3.061988\n",
              "2022-04-18    3.098740\n",
              "2022-04-14    3.122365\n",
              "2022-04-13    3.082827\n",
              "                ...   \n",
              "1990-01-08    3.008648\n",
              "1990-01-05    3.001217\n",
              "1990-01-04    2.955951\n",
              "1990-01-03    2.900872\n",
              "1990-01-02    2.847232\n",
              "Name: Last Price, Length: 8136, dtype: float64"
            ]
          },
          "metadata": {},
          "execution_count": 16
        }
      ]
    },
    {
      "cell_type": "code",
      "source": [
        "#calculating Log on Price column of Validation data\n",
        "Valid_Dataset_logScale = np.log(df_Valid['Last Price'])\n",
        "Valid_Dataset_logScale"
      ],
      "metadata": {
        "colab": {
          "base_uri": "https://localhost:8080/"
        },
        "id": "zKbIMNd7h6Ji",
        "outputId": "9fcdbe69-8df1-4386-8051-8a9bc2f37943"
      },
      "execution_count": 17,
      "outputs": [
        {
          "output_type": "execute_result",
          "data": {
            "text/plain": [
              "Date\n",
              "2022-04-20    4.532008\n",
              "2022-04-19    4.664005\n",
              "2022-04-18    4.708629\n",
              "2022-04-14    4.742756\n",
              "2022-04-13    4.734091\n",
              "                ...   \n",
              "2006-03-20    3.635742\n",
              "2006-03-17    3.353407\n",
              "2006-03-16    3.330059\n",
              "2006-03-15    2.754297\n",
              "2006-03-06    4.272909\n",
              "Name: Last Price, Length: 3997, dtype: float64"
            ]
          },
          "metadata": {},
          "execution_count": 17
        }
      ]
    },
    {
      "cell_type": "code",
      "source": [
        "#plotting the logscale trend\n",
        "Dataset_logScale.plot()"
      ],
      "metadata": {
        "colab": {
          "base_uri": "https://localhost:8080/",
          "height": 288
        },
        "id": "na1ERI6RkW4D",
        "outputId": "2fcb8926-009d-4788-89c3-c00bcc6d6112"
      },
      "execution_count": 18,
      "outputs": [
        {
          "output_type": "execute_result",
          "data": {
            "text/plain": [
              "<matplotlib.axes._subplots.AxesSubplot at 0x7fde37ad6cd0>"
            ]
          },
          "metadata": {},
          "execution_count": 18
        },
        {
          "output_type": "display_data",
          "data": {
            "text/plain": [
              "<Figure size 432x288 with 1 Axes>"
            ],
            "image/png": "[encoded data removed]"
          },
          "metadata": {
            "needs_background": "light"
          }
        }
      ]
    },
    {
      "cell_type": "code",
      "source": [
        "#Calculating Log Return on Log-Scale by taking log difference\n",
        "Log_Return = Dataset_logScale.diff()\n",
        "Log_Return"
      ],
      "metadata": {
        "colab": {
          "base_uri": "https://localhost:8080/"
        },
        "id": "kq0TuBdHkd99",
        "outputId": "f52c9360-178f-4a85-b904-d8100d138217"
      },
      "execution_count": 19,
      "outputs": [
        {
          "output_type": "execute_result",
          "data": {
            "text/plain": [
              "Date\n",
              "2022-04-20         NaN\n",
              "2022-04-19    0.008459\n",
              "2022-04-18    0.036752\n",
              "2022-04-14    0.023625\n",
              "2022-04-13   -0.039538\n",
              "                ...   \n",
              "1990-01-08   -0.091444\n",
              "1990-01-05   -0.007431\n",
              "1990-01-04   -0.045266\n",
              "1990-01-03   -0.055079\n",
              "1990-01-02   -0.053640\n",
              "Name: Last Price, Length: 8136, dtype: float64"
            ]
          },
          "metadata": {},
          "execution_count": 19
        }
      ]
    },
    {
      "cell_type": "code",
      "source": [
        "#calculating Log Return on Validation data\n",
        "Valid_Dataset_Log_Return = Valid_Dataset_logScale.diff()\n",
        "Valid_Dataset_Log_Return"
      ],
      "metadata": {
        "colab": {
          "base_uri": "https://localhost:8080/"
        },
        "id": "zWD18R8j-m7k",
        "outputId": "ee58da30-8c65-44a5-d841-0ad03ecd05d6"
      },
      "execution_count": 20,
      "outputs": [
        {
          "output_type": "execute_result",
          "data": {
            "text/plain": [
              "Date\n",
              "2022-04-20         NaN\n",
              "2022-04-19    0.131997\n",
              "2022-04-18    0.044624\n",
              "2022-04-14    0.034127\n",
              "2022-04-13   -0.008665\n",
              "                ...   \n",
              "2006-03-20    0.015409\n",
              "2006-03-17   -0.282336\n",
              "2006-03-16   -0.023347\n",
              "2006-03-15   -0.575762\n",
              "2006-03-06    1.518612\n",
              "Name: Last Price, Length: 3997, dtype: float64"
            ]
          },
          "metadata": {},
          "execution_count": 20
        }
      ]
    },
    {
      "cell_type": "code",
      "source": [
        "#Using log scale data\n",
        "# normalizing the data\n",
        "#copy the data\n",
        "df_min_max_scaled = Log_Return.copy()\n",
        "\n",
        "#apply normalization techniques on logged data\n",
        "\n",
        "for i in df_min_max_scaled:\n",
        "  df_min_max_scaled = (df_min_max_scaled - df_min_max_scaled.min()) / (df_min_max_scaled.max() - df_min_max_scaled.min())\n",
        "# view normalized data\n",
        "\n",
        "print(df_min_max_scaled)"
      ],
      "metadata": {
        "colab": {
          "base_uri": "https://localhost:8080/"
        },
        "id": "7cMU4s8Hu6u3",
        "outputId": "b1ad57f1-a243-4016-ebe0-5f1809fb8e84"
      },
      "execution_count": 21,
      "outputs": [
        {
          "output_type": "stream",
          "name": "stdout",
          "text": [
            "Date\n",
            "2022-04-20         NaN\n",
            "2022-04-19    0.694208\n",
            "2022-04-18    0.719497\n",
            "2022-04-14    0.707764\n",
            "2022-04-13    0.651310\n",
            "                ...   \n",
            "1990-01-08    0.604917\n",
            "1990-01-05    0.680006\n",
            "1990-01-04    0.646190\n",
            "1990-01-03    0.637419\n",
            "1990-01-02    0.638706\n",
            "Name: Last Price, Length: 8136, dtype: float64\n"
          ]
        }
      ]
    },
    {
      "cell_type": "code",
      "source": [
        "#normalising the validation data\n",
        "#copy the data\n",
        "V_df_min_max_scaled = Valid_Dataset_Log_Return.copy()\n",
        "\n",
        "#apply normalisation techniques on logged data\n",
        "\n",
        "for i in V_df_min_max_scaled:\n",
        "  V_df_min_max_scaled = (V_df_min_max_scaled - V_df_min_max_scaled.min()) / (V_df_min_max_scaled.max() - V_df_min_max_scaled.min())\n",
        "\n",
        "#view normlised data\n",
        "print(V_df_min_max_scaled)"
      ],
      "metadata": {
        "colab": {
          "base_uri": "https://localhost:8080/"
        },
        "id": "llImPw7V2LUB",
        "outputId": "73eb91a0-bdf2-4fff-e118-ff564a02136c"
      },
      "execution_count": 22,
      "outputs": [
        {
          "output_type": "stream",
          "name": "stdout",
          "text": [
            "Date\n",
            "2022-04-20         NaN\n",
            "2022-04-19    0.352148\n",
            "2022-04-18    0.311325\n",
            "2022-04-14    0.306421\n",
            "2022-04-13    0.286428\n",
            "                ...   \n",
            "2006-03-20    0.297676\n",
            "2006-03-17    0.158564\n",
            "2006-03-16    0.279568\n",
            "2006-03-15    0.021469\n",
            "2006-03-06    1.000000\n",
            "Name: Last Price, Length: 3997, dtype: float64\n"
          ]
        }
      ]
    },
    {
      "cell_type": "code",
      "source": [
        "# plotting the original over validation data\n",
        "plt.plot(V_df_min_max_scaled)\n",
        "plt.plot(df_min_max_scaled, color='red')"
      ],
      "metadata": {
        "colab": {
          "base_uri": "https://localhost:8080/",
          "height": 282
        },
        "id": "dAzBZGIDAg9v",
        "outputId": "d3c1043c-b179-4750-f383-1a3f7991084b"
      },
      "execution_count": 23,
      "outputs": [
        {
          "output_type": "execute_result",
          "data": {
            "text/plain": [
              "[<matplotlib.lines.Line2D at 0x7fde331af4d0>]"
            ]
          },
          "metadata": {},
          "execution_count": 23
        },
        {
          "output_type": "display_data",
          "data": {
            "text/plain": [
              "<Figure size 432x288 with 1 Axes>"
            ],
            "image/png": "[encoded data removed]"
          },
          "metadata": {
            "needs_background": "light"
          }
        }
      ]
    },
    {
      "cell_type": "markdown",
      "source": [
        "From now on every testing data will be replaced by validation data so my testing data is an entirely different dataset called VXX. this way i am not overfitting on VIX series"
      ],
      "metadata": {
        "id": "0OOV8KelB6Ss"
      }
    },
    {
      "cell_type": "markdown",
      "source": [
        "ARIMA MODEL"
      ],
      "metadata": {
        "id": "o_HwD4BUCCB8"
      }
    },
    {
      "cell_type": "code",
      "source": [
        "# printing the data shpe\n",
        "print(df_min_max_scaled.shape)\n",
        "\n",
        "# make the train and test split\n",
        "#iloc[:, -1] it means the last column, but df. iloc[:, :-1] means until the last column\n",
        "train=df_min_max_scaled.iloc[:-30]\n",
        "test= V_df_min_max_scaled.iloc[-30:]\n",
        "\n",
        "# printing the data shape\n",
        "\n",
        "print(train.shape, test.shape)"
      ],
      "metadata": {
        "colab": {
          "base_uri": "https://localhost:8080/"
        },
        "id": "XFbG1WCVAzWN",
        "outputId": "457d1a21-c7cc-4b3f-d684-6642a5c646c1"
      },
      "execution_count": 24,
      "outputs": [
        {
          "output_type": "stream",
          "name": "stdout",
          "text": [
            "(8136,)\n",
            "(8106,) (30,)\n"
          ]
        }
      ]
    },
    {
      "cell_type": "code",
      "source": [
        "#fitting the ARIMA model on train data\n",
        "\n",
        "model=ARIMA(train, order=(1, 0, 5))\n",
        "model=model.fit()\n",
        "\n",
        "# printing the model summary\n",
        "\n",
        "model.summary()"
      ],
      "metadata": {
        "colab": {
          "base_uri": "https://localhost:8080/",
          "height": 537
        },
        "id": "TupqodkLLy9e",
        "outputId": "3cf4af29-172f-4896-f93d-4978222cea04"
      },
      "execution_count": 25,
      "outputs": [
        {
          "output_type": "execute_result",
          "data": {
            "text/plain": [
              "<class 'statsmodels.iolib.summary.Summary'>\n",
              "\"\"\"\n",
              "                               SARIMAX Results                                \n",
              "==============================================================================\n",
              "Dep. Variable:             Last Price   No. Observations:                 8106\n",
              "Model:                 ARIMA(1, 0, 5)   Log Likelihood               11364.073\n",
              "Date:                Tue, 12 Jul 2022   AIC                         -22712.146\n",
              "Time:                        13:15:08   BIC                         -22656.143\n",
              "Sample:                             0   HQIC                        -22692.990\n",
              "                               - 8106                                         \n",
              "Covariance Type:                  opg                                         \n",
              "==============================================================================\n",
              "                 coef    std err          z      P>|z|      [0.025      0.975]\n",
              "------------------------------------------------------------------------------\n",
              "const          0.6866      0.000   1796.111      0.000       0.686       0.687\n",
              "ar.L1          0.8963      0.028     32.219      0.000       0.842       0.951\n",
              "ma.L1         -0.9937      0.030    -33.461      0.000      -1.052      -0.935\n",
              "ma.L2          0.0241      0.011      2.223      0.026       0.003       0.045\n",
              "ma.L3          0.0131      0.011      1.146      0.252      -0.009       0.036\n",
              "ma.L4         -0.0065      0.012     -0.542      0.588      -0.030       0.017\n",
              "ma.L5          0.0184      0.010      1.817      0.069      -0.001       0.038\n",
              "sigma2         0.0035   3.14e-05    112.726      0.000       0.003       0.004\n",
              "===================================================================================\n",
              "Ljung-Box (L1) (Q):                   0.29   Jarque-Bera (JB):             12213.28\n",
              "Prob(Q):                              0.59   Prob(JB):                         0.00\n",
              "Heteroskedasticity (H):               0.50   Skew:                            -0.82\n",
              "Prob(H) (two-sided):                  0.00   Kurtosis:                         8.79\n",
              "===================================================================================\n",
              "\n",
              "Warnings:\n",
              "[1] Covariance matrix calculated using the outer product of gradients (complex-step).\n",
              "\"\"\""
            ],
            "text/html": [
              "<table class=\"simpletable\">\n",
              "<caption>SARIMAX Results</caption>\n",
              "<tr>\n",
              "  <th>Dep. Variable:</th>      <td>Last Price</td>    <th>  No. Observations:  </th>    <td>8106</td>   \n",
              "</tr>\n",
              "<tr>\n",
              "  <th>Model:</th>            <td>ARIMA(1, 0, 5)</td>  <th>  Log Likelihood     </th>  <td>11364.073</td>\n",
              "</tr>\n",
              "<tr>\n",
              "  <th>Date:</th>            <td>Tue, 12 Jul 2022</td> <th>  AIC                </th> <td>-22712.146</td>\n",
              "</tr>\n",
              "<tr>\n",
              "  <th>Time:</th>                <td>13:15:08</td>     <th>  BIC                </th> <td>-22656.143</td>\n",
              "</tr>\n",
              "<tr>\n",
              "  <th>Sample:</th>                  <td>0</td>        <th>  HQIC               </th> <td>-22692.990</td>\n",
              "</tr>\n",
              "<tr>\n",
              "  <th></th>                      <td> - 8106</td>     <th>                     </th>      <td> </td>    \n",
              "</tr>\n",
              "<tr>\n",
              "  <th>Covariance Type:</th>        <td>opg</td>       <th>                     </th>      <td> </td>    \n",
              "</tr>\n",
              "</table>\n",
              "<table class=\"simpletable\">\n",
              "<tr>\n",
              "     <td></td>       <th>coef</th>     <th>std err</th>      <th>z</th>      <th>P>|z|</th>  <th>[0.025</th>    <th>0.975]</th>  \n",
              "</tr>\n",
              "<tr>\n",
              "  <th>const</th>  <td>    0.6866</td> <td>    0.000</td> <td> 1796.111</td> <td> 0.000</td> <td>    0.686</td> <td>    0.687</td>\n",
              "</tr>\n",
              "<tr>\n",
              "  <th>ar.L1</th>  <td>    0.8963</td> <td>    0.028</td> <td>   32.219</td> <td> 0.000</td> <td>    0.842</td> <td>    0.951</td>\n",
              "</tr>\n",
              "<tr>\n",
              "  <th>ma.L1</th>  <td>   -0.9937</td> <td>    0.030</td> <td>  -33.461</td> <td> 0.000</td> <td>   -1.052</td> <td>   -0.935</td>\n",
              "</tr>\n",
              "<tr>\n",
              "  <th>ma.L2</th>  <td>    0.0241</td> <td>    0.011</td> <td>    2.223</td> <td> 0.026</td> <td>    0.003</td> <td>    0.045</td>\n",
              "</tr>\n",
              "<tr>\n",
              "  <th>ma.L3</th>  <td>    0.0131</td> <td>    0.011</td> <td>    1.146</td> <td> 0.252</td> <td>   -0.009</td> <td>    0.036</td>\n",
              "</tr>\n",
              "<tr>\n",
              "  <th>ma.L4</th>  <td>   -0.0065</td> <td>    0.012</td> <td>   -0.542</td> <td> 0.588</td> <td>   -0.030</td> <td>    0.017</td>\n",
              "</tr>\n",
              "<tr>\n",
              "  <th>ma.L5</th>  <td>    0.0184</td> <td>    0.010</td> <td>    1.817</td> <td> 0.069</td> <td>   -0.001</td> <td>    0.038</td>\n",
              "</tr>\n",
              "<tr>\n",
              "  <th>sigma2</th> <td>    0.0035</td> <td> 3.14e-05</td> <td>  112.726</td> <td> 0.000</td> <td>    0.003</td> <td>    0.004</td>\n",
              "</tr>\n",
              "</table>\n",
              "<table class=\"simpletable\">\n",
              "<tr>\n",
              "  <th>Ljung-Box (L1) (Q):</th>     <td>0.29</td> <th>  Jarque-Bera (JB):  </th> <td>12213.28</td>\n",
              "</tr>\n",
              "<tr>\n",
              "  <th>Prob(Q):</th>                <td>0.59</td> <th>  Prob(JB):          </th>   <td>0.00</td>  \n",
              "</tr>\n",
              "<tr>\n",
              "  <th>Heteroskedasticity (H):</th> <td>0.50</td> <th>  Skew:              </th>   <td>-0.82</td> \n",
              "</tr>\n",
              "<tr>\n",
              "  <th>Prob(H) (two-sided):</th>    <td>0.00</td> <th>  Kurtosis:          </th>   <td>8.79</td>  \n",
              "</tr>\n",
              "</table><br/><br/>Warnings:<br/>[1] Covariance matrix calculated using the outer product of gradients (complex-step)."
            ]
          },
          "metadata": {},
          "execution_count": 25
        }
      ]
    },
    {
      "cell_type": "code",
      "source": [
        " # print the fitted values (predicted values)\n",
        "\n",
        " data = model.fittedvalues\n",
        " data"
      ],
      "metadata": {
        "colab": {
          "base_uri": "https://localhost:8080/"
        },
        "id": "hg3bAouAN-Tm",
        "outputId": "6d24b3b5-71eb-40a5-ee5e-a7449616863c"
      },
      "execution_count": 26,
      "outputs": [
        {
          "output_type": "execute_result",
          "data": {
            "text/plain": [
              "Date\n",
              "2022-04-20    0.686586\n",
              "2022-04-19    0.686586\n",
              "2022-04-18    0.685964\n",
              "2022-04-14    0.683302\n",
              "2022-04-13    0.682340\n",
              "                ...   \n",
              "1990-02-20    0.678807\n",
              "1990-02-16    0.684461\n",
              "1990-02-15    0.692839\n",
              "1990-02-14    0.693982\n",
              "1990-02-13    0.683055\n",
              "Length: 8106, dtype: float64"
            ]
          },
          "metadata": {},
          "execution_count": 26
        }
      ]
    },
    {
      "cell_type": "code",
      "source": [
        "#plot the actual over predict data\n",
        "\n",
        "plt.plot(df_min_max_scaled)\n",
        "plt.plot(model.fittedvalues, color='red')"
      ],
      "metadata": {
        "colab": {
          "base_uri": "https://localhost:8080/",
          "height": 282
        },
        "id": "20154jOTQ8p1",
        "outputId": "cbc2a9a2-c75d-4a8d-9907-39796f31208e"
      },
      "execution_count": 27,
      "outputs": [
        {
          "output_type": "execute_result",
          "data": {
            "text/plain": [
              "[<matplotlib.lines.Line2D at 0x7fde308a2490>]"
            ]
          },
          "metadata": {},
          "execution_count": 27
        },
        {
          "output_type": "display_data",
          "data": {
            "text/plain": [
              "<Figure size 432x288 with 1 Axes>"
            ],
            "image/png": "[encoded data removed]"
          },
          "metadata": {
            "needs_background": "light"
          }
        }
      ]
    },
    {
      "cell_type": "code",
      "source": [
        "#calculating the difference\n",
        "predictions_ARIMA_diff = pd.Series(model.fittedvalues - df_min_max_scaled)  \n",
        "print(predictions_ARIMA_diff)"
      ],
      "metadata": {
        "colab": {
          "base_uri": "https://localhost:8080/"
        },
        "id": "YlawDtuCRTQK",
        "outputId": "68ab47ef-2745-4798-bcd2-bede0e83f97b"
      },
      "execution_count": 28,
      "outputs": [
        {
          "output_type": "stream",
          "name": "stdout",
          "text": [
            "Date\n",
            "1990-01-02         NaN\n",
            "1990-01-03         NaN\n",
            "1990-01-04         NaN\n",
            "1990-01-05         NaN\n",
            "1990-01-08         NaN\n",
            "                ...   \n",
            "2022-04-13    0.031030\n",
            "2022-04-14   -0.024462\n",
            "2022-04-18   -0.033532\n",
            "2022-04-19   -0.007622\n",
            "2022-04-20         NaN\n",
            "Length: 8136, dtype: float64\n"
          ]
        }
      ]
    },
    {
      "cell_type": "code",
      "source": [
        "#convert to cumulative sum\n",
        "\n",
        "predictions_ARIMA_diff_cumsum = predictions_ARIMA_diff.cumsum()\n",
        "print(predictions_ARIMA_diff_cumsum)"
      ],
      "metadata": {
        "colab": {
          "base_uri": "https://localhost:8080/"
        },
        "id": "A7ppsspTS6a_",
        "outputId": "b41098db-375d-48a1-fb5c-c140ecc3872a"
      },
      "execution_count": 29,
      "outputs": [
        {
          "output_type": "stream",
          "name": "stdout",
          "text": [
            "Date\n",
            "1990-01-02         NaN\n",
            "1990-01-03         NaN\n",
            "1990-01-04         NaN\n",
            "1990-01-05         NaN\n",
            "1990-01-08         NaN\n",
            "                ...   \n",
            "2022-04-13   -0.966770\n",
            "2022-04-14   -0.991232\n",
            "2022-04-18   -1.024764\n",
            "2022-04-19   -1.032386\n",
            "2022-04-20         NaN\n",
            "Length: 8136, dtype: float64\n"
          ]
        }
      ]
    },
    {
      "cell_type": "code",
      "source": [
        "#plotting the predictive plot to check the over future trend\n",
        "\n",
        "predictions_ARIMA_log = pd.Series(df_min_max_scaled, index=df_min_max_scaled.index)\n",
        "predictions_ARIMA_log = predictions_ARIMA_log.add(predictions_ARIMA_diff_cumsum)\n",
        "predictions_ARIMA_log.plot()"
      ],
      "metadata": {
        "colab": {
          "base_uri": "https://localhost:8080/",
          "height": 286
        },
        "id": "qkS6CqWtTH8e",
        "outputId": "0b56ed36-c8fe-4fd3-b6ac-80f3e04a23b7"
      },
      "execution_count": 30,
      "outputs": [
        {
          "output_type": "execute_result",
          "data": {
            "text/plain": [
              "<matplotlib.axes._subplots.AxesSubplot at 0x7fde3086e0d0>"
            ]
          },
          "metadata": {},
          "execution_count": 30
        },
        {
          "output_type": "display_data",
          "data": {
            "text/plain": [
              "<Figure size 432x288 with 1 Axes>"
            ],
            "image/png": "[encoded data removed]"
          },
          "metadata": {
            "needs_background": "light"
          }
        }
      ]
    },
    {
      "cell_type": "code",
      "source": [
        "# making a data frame of predicted values\n",
        "final_data = pd.DataFrame(data, columns=['Price'])\n",
        "final_data"
      ],
      "metadata": {
        "colab": {
          "base_uri": "https://localhost:8080/",
          "height": 455
        },
        "id": "frwIJ2CWWfXj",
        "outputId": "ffdb19ca-9b4a-41c1-986d-c1e3dbde9f4a"
      },
      "execution_count": 31,
      "outputs": [
        {
          "output_type": "execute_result",
          "data": {
            "text/plain": [
              "               Price\n",
              "Date                \n",
              "2022-04-20  0.686586\n",
              "2022-04-19  0.686586\n",
              "2022-04-18  0.685964\n",
              "2022-04-14  0.683302\n",
              "2022-04-13  0.682340\n",
              "...              ...\n",
              "1990-02-20  0.678807\n",
              "1990-02-16  0.684461\n",
              "1990-02-15  0.692839\n",
              "1990-02-14  0.693982\n",
              "1990-02-13  0.683055\n",
              "\n",
              "[8106 rows x 1 columns]"
            ],
            "text/html": [
              "\n",
              "  <div id=\"df-53e8300c-52fe-4dd1-bb5e-657ac02efebc\">\n",
              "    <div class=\"colab-df-container\">\n",
              "      <div>\n",
              "<style scoped>\n",
              "    .dataframe tbody tr th:only-of-type {\n",
              "        vertical-align: middle;\n",
              "    }\n",
              "\n",
              "    .dataframe tbody tr th {\n",
              "        vertical-align: top;\n",
              "    }\n",
              "\n",
              "    .dataframe thead th {\n",
              "        text-align: right;\n",
              "    }\n",
              "</style>\n",
              "<table border=\"1\" class=\"dataframe\">\n",
              "  <thead>\n",
              "    <tr style=\"text-align: right;\">\n",
              "      <th></th>\n",
              "      <th>Price</th>\n",
              "    </tr>\n",
              "    <tr>\n",
              "      <th>Date</th>\n",
              "      <th></th>\n",
              "    </tr>\n",
              "  </thead>\n",
              "  <tbody>\n",
              "    <tr>\n",
              "      <th>2022-04-20</th>\n",
              "      <td>0.686586</td>\n",
              "    </tr>\n",
              "    <tr>\n",
              "      <th>2022-04-19</th>\n",
              "      <td>0.686586</td>\n",
              "    </tr>\n",
              "    <tr>\n",
              "      <th>2022-04-18</th>\n",
              "      <td>0.685964</td>\n",
              "    </tr>\n",
              "    <tr>\n",
              "      <th>2022-04-14</th>\n",
              "      <td>0.683302</td>\n",
              "    </tr>\n",
              "    <tr>\n",
              "      <th>2022-04-13</th>\n",
              "      <td>0.682340</td>\n",
              "    </tr>\n",
              "    <tr>\n",
              "      <th>...</th>\n",
              "      <td>...</td>\n",
              "    </tr>\n",
              "    <tr>\n",
              "      <th>1990-02-20</th>\n",
              "      <td>0.678807</td>\n",
              "    </tr>\n",
              "    <tr>\n",
              "      <th>1990-02-16</th>\n",
              "      <td>0.684461</td>\n",
              "    </tr>\n",
              "    <tr>\n",
              "      <th>1990-02-15</th>\n",
              "      <td>0.692839</td>\n",
              "    </tr>\n",
              "    <tr>\n",
              "      <th>1990-02-14</th>\n",
              "      <td>0.693982</td>\n",
              "    </tr>\n",
              "    <tr>\n",
              "      <th>1990-02-13</th>\n",
              "      <td>0.683055</td>\n",
              "    </tr>\n",
              "  </tbody>\n",
              "</table>\n",
              "<p>8106 rows × 1 columns</p>\n",
              "</div>\n",
              "      <button class=\"colab-df-convert\" onclick=\"convertToInteractive('df-53e8300c-52fe-4dd1-bb5e-657ac02efebc')\"\n",
              "              title=\"Convert this dataframe to an interactive table.\"\n",
              "              style=\"display:none;\">\n",
              "        \n",
              "  <svg xmlns=\"http://www.w3.org/2000/svg\" height=\"24px\"viewBox=\"0 0 24 24\"\n",
              "       width=\"24px\">\n",
              "    <path d=\"M0 0h24v24H0V0z\" fill=\"none\"/>\n",
              "    <path d=\"M18.56 5.44l.94 2.06.94-2.06 2.06-.94-2.06-.94-.94-2.06-.94 2.06-2.06.94zm-11 1L8.5 8.5l.94-2.06 2.06-.94-2.06-.94L8.5 2.5l-.94 2.06-2.06.94zm10 10l.94 2.06.94-2.06 2.06-.94-2.06-.94-.94-2.06-.94 2.06-2.06.94z\"/><path d=\"M17.41 7.96l-1.37-1.37c-.4-.4-.92-.59-1.43-.59-.52 0-1.04.2-1.43.59L10.3 9.45l-7.72 7.72c-.78.78-.78 2.05 0 2.83L4 21.41c.39.39.9.59 1.41.59.51 0 1.02-.2 1.41-.59l7.78-7.78 2.81-2.81c.8-.78.8-2.07 0-2.86zM5.41 20L4 18.59l7.72-7.72 1.47 1.35L5.41 20z\"/>\n",
              "  </svg>\n",
              "      </button>\n",
              "      \n",
              "  <style>\n",
              "    .colab-df-container {\n",
              "      display:flex;\n",
              "      flex-wrap:wrap;\n",
              "      gap: 12px;\n",
              "    }\n",
              "\n",
              "    .colab-df-convert {\n",
              "      background-color: #E8F0FE;\n",
              "      border: none;\n",
              "      border-radius: 50%;\n",
              "      cursor: pointer;\n",
              "      display: none;\n",
              "      fill: #1967D2;\n",
              "      height: 32px;\n",
              "      padding: 0 0 0 0;\n",
              "      width: 32px;\n",
              "    }\n",
              "\n",
              "    .colab-df-convert:hover {\n",
              "      background-color: #E2EBFA;\n",
              "      box-shadow: 0px 1px 2px rgba(60, 64, 67, 0.3), 0px 1px 3px 1px rgba(60, 64, 67, 0.15);\n",
              "      fill: #174EA6;\n",
              "    }\n",
              "\n",
              "    [theme=dark] .colab-df-convert {\n",
              "      background-color: #3B4455;\n",
              "      fill: #D2E3FC;\n",
              "    }\n",
              "\n",
              "    [theme=dark] .colab-df-convert:hover {\n",
              "      background-color: #434B5C;\n",
              "      box-shadow: 0px 1px 3px 1px rgba(0, 0, 0, 0.15);\n",
              "      filter: drop-shadow(0px 1px 2px rgba(0, 0, 0, 0.3));\n",
              "      fill: #FFFFFF;\n",
              "    }\n",
              "  </style>\n",
              "\n",
              "      <script>\n",
              "        const buttonEl =\n",
              "          document.querySelector('#df-53e8300c-52fe-4dd1-bb5e-657ac02efebc button.colab-df-convert');\n",
              "        buttonEl.style.display =\n",
              "          google.colab.kernel.accessAllowed ? 'block' : 'none';\n",
              "\n",
              "        async function convertToInteractive(key) {\n",
              "          const element = document.querySelector('#df-53e8300c-52fe-4dd1-bb5e-657ac02efebc');\n",
              "          const dataTable =\n",
              "            await google.colab.kernel.invokeFunction('convertToInteractive',\n",
              "                                                     [key], {});\n",
              "          if (!dataTable) return;\n",
              "\n",
              "          const docLinkHtml = 'Like what you see? Visit the ' +\n",
              "            '<a target=\"_blank\" href=https://colab.research.google.com/notebooks/data_table.ipynb>data table notebook</a>'\n",
              "            + ' to learn more about interactive tables.';\n",
              "          element.innerHTML = '';\n",
              "          dataTable['output_type'] = 'display_data';\n",
              "          await google.colab.output.renderOutput(dataTable, element);\n",
              "          const docLink = document.createElement('div');\n",
              "          docLink.innerHTML = docLinkHtml;\n",
              "          element.appendChild(docLink);\n",
              "        }\n",
              "      </script>\n",
              "    </div>\n",
              "  </div>\n",
              "  "
            ]
          },
          "metadata": {},
          "execution_count": 31
        }
      ]
    },
    {
      "cell_type": "markdown",
      "source": [
        "GAN"
      ],
      "metadata": {
        "id": "R-4DODgRZZaS"
      }
    },
    {
      "cell_type": "code",
      "source": [
        "#split into train and test sets\n",
        "train_size = int(len(final_data) * 0.7)\n",
        "test_size = train_size - len(V_df_min_max_scaled)\n",
        "train = final_data[test_size:len(final_data)]\n",
        "test = final_data[train_size:len(final_data)]\n",
        "print(len(train), len(test))\n"
      ],
      "metadata": {
        "colab": {
          "base_uri": "https://localhost:8080/"
        },
        "id": "raecoOBuZa4w",
        "outputId": "9f25ac65-530a-4332-c277-e8c472858454"
      },
      "execution_count": 32,
      "outputs": [
        {
          "output_type": "stream",
          "name": "stdout",
          "text": [
            "6429 2432\n"
          ]
        }
      ]
    },
    {
      "cell_type": "code",
      "source": [
        "# making the train data out of original dataframe\n",
        "\n",
        "training_set = train.iloc[:].values\n",
        "X_train = []\n",
        "y_train = []\n",
        "for i in range(100, training_set.shape[0]):\n",
        "  X_train.append(training_set[i-100:i,0])\n",
        "  y_train.append(training_set[i,0])\n",
        "X_train, y_train = np.array(X_train), np.array(y_train)"
      ],
      "metadata": {
        "id": "_jmn-STXfd53"
      },
      "execution_count": 33,
      "outputs": []
    },
    {
      "cell_type": "code",
      "source": [
        "print(X_train.shape)\n",
        "print(y_train.shape)"
      ],
      "metadata": {
        "colab": {
          "base_uri": "https://localhost:8080/"
        },
        "id": "yYGCuz3wiX5e",
        "outputId": "0e624cc5-2ed4-455b-b237-bb49f7103fc0"
      },
      "execution_count": 34,
      "outputs": [
        {
          "output_type": "stream",
          "name": "stdout",
          "text": [
            "(6329, 100)\n",
            "(6329,)\n"
          ]
        }
      ]
    },
    {
      "cell_type": "code",
      "source": [
        "# make the testing data out of original dataframe\n",
        "\n",
        "testing_set = test.iloc[:].values\n",
        "X_test = []\n",
        "y_test = []\n",
        "for i in range(100, testing_set.shape[0]):\n",
        "  X_test.append(testing_set[i-100:i,0])\n",
        "  y_test.append(testing_set[i,0])\n",
        "X_test, y_test = np.array(X_test), np.array(y_test)"
      ],
      "metadata": {
        "id": "XBhNofcIijxH"
      },
      "execution_count": 35,
      "outputs": []
    },
    {
      "cell_type": "code",
      "source": [
        "print(X_test.shape)\n",
        "print(y_test.shape\n",
        "    )"
      ],
      "metadata": {
        "colab": {
          "base_uri": "https://localhost:8080/"
        },
        "id": "Xmbag5-fjSwd",
        "outputId": "fc76553b-f2ad-48f8-c1f4-6bc7d5a7de75"
      },
      "execution_count": 36,
      "outputs": [
        {
          "output_type": "stream",
          "name": "stdout",
          "text": [
            "(2332, 100)\n",
            "(2332,)\n"
          ]
        }
      ]
    },
    {
      "cell_type": "code",
      "source": [
        "# reshaping the dimension of X variable from 100 to 10*10\n",
        "#Imagine that you have created an array with 100 dimensions\n",
        "#and then you calculate something and fill this array. for \n",
        "#whatever reason, you have not created 2d array, what is \n",
        "#wrong with this question that you want to assign another\n",
        "#dimension to this data, with this justification that for\n",
        "#example 250 samples should have this calculated data?!!\n",
        "#reshape() function shapes an array without changing the data of the array.\n",
        "x_train = X_train.reshape(len(X_train), 10*10).astype('float32')\n",
        "x_test = X_test.reshape(len(X_test), 10*10).astype('float32')\n",
        "#augmented division. converting to 10x10 dimension by choosing only floats. then \n",
        "#divide by 255 standard per pixel value. any value other than flot it should be left outside\n",
        "x_train /= 255\n",
        "x_test /= 255"
      ],
      "metadata": {
        "id": "RD9n3vO9jkb4"
      },
      "execution_count": 37,
      "outputs": []
    },
    {
      "cell_type": "code",
      "source": [
        "# Data is currently flattened, we need to reshape it back to 10 * 10. to do that we reshape the data\n",
        "# dataset is not altered after dividing it by 255\n",
        "#numpy reshape to reshape the data and to automatically calculate the size of vector (rows x columns) and \n",
        "#relocate it into a -1D vector with that dimension which is our case of single price column\n",
        "x_train = np.reshape(x_train, [-1, 10, 10])\n",
        "x_test = np.reshape(x_test, [-1, 10, 10])"
      ],
      "metadata": {
        "id": "BifOZwlGNuyc"
      },
      "execution_count": 38,
      "outputs": []
    },
    {
      "cell_type": "code",
      "source": [
        "# Gan model requires input of 32x32. so we will pad the train and test images with zeros to increase the size to 32x 32.\n",
        "#already added 10*10 two times abovem while confirming float and leftovers.\n",
        "#now to make symmetrical vectors, we will add 11, to adjust for symmetry. \n",
        "x_train = np.pad(x_train, ((0,0), (11, 11), (11, 11)), 'constant')\n",
        "x_test = np.pad(x_test, ((0,0), (11, 11), (11, 11)), 'constant')"
      ],
      "metadata": {
        "id": "rurIqc8oi4QY"
      },
      "execution_count": 39,
      "outputs": []
    },
    {
      "cell_type": "code",
      "source": [
        "# convolutional model requires input to be of 3 dimentions. we will add a channel dimension to it. \n",
        "#becomes 3D data. basically (Data, 32, 32, 1) for cnn\n",
        "x_train = np.reshape(x_train, [-1, 32, 32, 1])\n",
        "x_test = np.reshape(x_test, [-1, 32, 32, 1])\n"
      ],
      "metadata": {
        "id": "KOIPaS1ktKIm"
      },
      "execution_count": 40,
      "outputs": []
    },
    {
      "cell_type": "code",
      "source": [
        "# assigning variables\n",
        "\n",
        "X_train = x_train\n",
        "\n",
        "X_test = x_test"
      ],
      "metadata": {
        "id": "KB5FEuvk4G5I"
      },
      "execution_count": 41,
      "outputs": []
    },
    {
      "cell_type": "code",
      "source": [
        "# overview\n",
        "print(X_train.shape)\n",
        "print(X_test.shape)"
      ],
      "metadata": {
        "colab": {
          "base_uri": "https://localhost:8080/"
        },
        "id": "zGDPpz6XEodu",
        "outputId": "fe9983bb-8fb1-4280-fdea-ae5d372c7e8d"
      },
      "execution_count": 42,
      "outputs": [
        {
          "output_type": "stream",
          "name": "stdout",
          "text": [
            "(6329, 32, 32, 1)\n",
            "(2332, 32, 32, 1)\n"
          ]
        }
      ]
    },
    {
      "cell_type": "code",
      "source": [
        "#Assume we have a sequence of labels with the values ‘red’ and ‘green’.\n",
        "\n",
        "#We can assign ‘red’ an integer value of 0 and ‘green’ the integer value of 1.\n",
        "#As long as we always assign these numbers to these labels, this is called an integer\n",
        "#encoding. Consistency is important so that we can invert the encoding later and get\n",
        "#labels back from integer values, such as in the case of making a prediction.\n",
        "#Next, we can create a binary vector to represent each integer value. The vector will\n",
        "#have a length of 2 for the 2 possible integer values.#The ‘red’ label encoded as a 0 \n",
        "#will be represented with a binary vector [1, 0] where the zeroth index is marked with\n",
        "#a value of 1. In turn, the ‘green’ label encoded as a 1 will be represented with a binary\n",
        "# vector [0, 1] where the first index is marked with a value of 1.\n",
        "#np_utils. to_categorical is used to convert array of labeled data(from 0 to nb_classes - 1 ) \n",
        "#to one-hot vector. The official doc with an example. \n",
        "#this is for limiting categorical vector creation. if left the number of classes \n",
        "#blank, then each value will be recognised as separate category in the model. \n",
        "# in other words to cluster them and to have control over data. anything less than 30 can work fine. \n",
        "num_classes = 15\n",
        "y_train = keras.utils.np_utils.to_categorical(y_train, num_classes)"
      ],
      "metadata": {
        "id": "CnGzoRmmFjyF"
      },
      "execution_count": 43,
      "outputs": []
    },
    {
      "cell_type": "code",
      "source": [
        "from numpy.random import randn\n",
        "def generate_latent_points(latent_dim, n_samples):\n",
        "  x_input = randn(latent_dim * n_samples)\n",
        "  z_input = x_input.reshape(n_samples, latent_dim)\n",
        "  return z_input\n",
        "  "
      ],
      "metadata": {
        "id": "u7rN8VmAHyf1"
      },
      "execution_count": 44,
      "outputs": []
    },
    {
      "cell_type": "code",
      "source": [
        "def generate_real_samples(X_train, n_samples):\n",
        "  ix = randint(0, X_train.shape[0], n_samples)\n",
        "  X = X_train[ix]\n",
        "  y = ones((n_samples, 1))\n",
        "  return X, y"
      ],
      "metadata": {
        "id": "y_FrH6QlMlZq"
      },
      "execution_count": 45,
      "outputs": []
    },
    {
      "cell_type": "code",
      "source": [
        ""
      ],
      "metadata": {
        "id": "AneQ4i4WZe8r"
      },
      "execution_count": 46,
      "outputs": []
    },
    {
      "cell_type": "code",
      "source": [
        "def generate_fake_samples(generator, latent_dim, n_samples):\n",
        "  z_input = generate_latent_points(latent_dim, n_samples)\n",
        "  images = generator.predict(z_input)\n",
        "  y = zeros((n_samples, 1))\n",
        "  return images, y"
      ],
      "metadata": {
        "id": "kXbODq71O5QV"
      },
      "execution_count": 46,
      "outputs": []
    },
    {
      "cell_type": "code",
      "source": [
        "def summarize_performance(step, g_model, latent_dim, n_samples =100):\n",
        "  X, _ = generate_fake_samples(g_model, latent_dim, n_samples)\n",
        "  X = (X + 1) / 2.0\n",
        "  for i in range(100):\n",
        "    pyplot.subplot(10, 10, 1 + i)\n",
        "    pyplot.axis('off')\n",
        "    pyplot.imshow(X[i, :, :, 0], cmap='gray_r')\n",
        "  filename2 = 'model_%04d.h5' % (step+1)\n",
        "  g_model.save(filename2)\n",
        "  print('>Saved: %s' % (filename2))"
      ],
      "metadata": {
        "id": "IyQZhm7PZprx"
      },
      "execution_count": 47,
      "outputs": []
    },
    {
      "cell_type": "code",
      "source": [
        "def save_plot(examples, n_examples):\n",
        "    for i in range(n_examples):\n",
        "     pyplot.subplot(sqrt(n_examples), sqrt(n_examples), 1 + i)\n",
        "     pyplot.axis('off')\n",
        "     pyplot.imshow(examples[i, :, :, 0], cmap = 'gray_r')\n",
        "     pyplot.imshow(examples[i, :, :, 0], cmap = 'gray_r')\n",
        "    pyplot.show()"
      ],
      "metadata": {
        "id": "9V3sx52Ym7BR"
      },
      "execution_count": 48,
      "outputs": []
    },
    {
      "cell_type": "code",
      "source": [
        "def define_discrimator(in_shape=(32, 32, 1)):\n",
        "  init = RandomNormal(stddev=0.02)\n",
        "  in_image = Input(shape=in_shape)\n",
        "\n",
        "  #define the model\n",
        "  model = Sequential()\n",
        "  model.add(Conv1D(filters=128, kernel_size=2, activation='relu'))\n",
        "  model.add(Flatten())\n",
        "  model.add(Dense(50, activation='relu'))\n",
        "  model.add(Dense(1))\n",
        "  #model = Model(in_image, out)\n",
        "  opt = adam_v2.Adam(lr=0.0002, beta_1=0.5)\n",
        "  model.compile(loss='binary_crossentropy', optimizer=opt, metrics=['accuracy'])\n",
        "  return model"
      ],
      "metadata": {
        "id": "Dve8LWZJn5OO"
      },
      "execution_count": 49,
      "outputs": []
    },
    {
      "cell_type": "code",
      "source": [
        "discriminator = define_discrimator()"
      ],
      "metadata": {
        "id": "2cGKTkFdtEVp"
      },
      "execution_count": 50,
      "outputs": []
    },
    {
      "cell_type": "code",
      "source": [
        "from keras.layers.advanced_activations import LeakyReLU\n",
        "def define_generator(latent_dim):\n",
        "  init = RandomNormal(stddev=0.02)\n",
        "  in_lat = Input(shape=(latent_dim))\n",
        "  gen = TimeDistributed(Conv1D(64, kernel_size=3, activation='relu', input_shape=(32,32,1)))\n",
        "  gen = TimeDistributed(MaxPooling1D(2))\n",
        "  gen = TimeDistributed(Conv1D(128, kernel_size=3, activation='relu'))\n",
        "  gen = TimeDistributed(MaxPooling1D(2))\n",
        "  gen = TimeDistributed(Conv1D(64, kernel_size=3, activation='relu'))\n",
        "  gen = TimeDistributed(MaxPooling1D(2))\n",
        "  #LSTM LAYERS\n",
        "  gen = Bidirectional(LSTM(100, return_sequences=True))\n",
        "  gen = Dropout(0.5)\n",
        "  gen = Bidirectional(LSTM(100, return_sequences=False))\n",
        "  gen = Dropout(0.5)\n",
        "  gen = Dense(256, kernel_initializer=init)(in_lat)\n",
        "  gen = LeakyReLU(alpha=0.2)(gen)\n",
        "  gen = Dense(512, kernel_initializer=init)(gen)\n",
        "  gen = LeakyReLU(alpha=0.2)(gen)\n",
        "  gen = Dense(1024, kernel_initializer=init)(gen)\n",
        "  gen = LeakyReLU(alpha=0.2)(gen)\n",
        "  gen = Dense(32 * 32 * 1, kernel_initializer=init)(gen)\n",
        "  #Final Layers\n",
        "  out_layer = Activation('tanh')(gen)\n",
        "  out_layer = Reshape((32, 32, 1))(gen)\n",
        "  model = Model(in_lat, out_layer)\n",
        "  opt = adam_v2.Adam(lr=0.0002, beta_1=0.5)\n",
        "  model.compile(loss='binary_crossentropy', optimizer=opt, metrics=['accuracy']\n",
        "                )\n",
        "  return model\n"
      ],
      "metadata": {
        "id": "Cf03WB9WtJ40"
      },
      "execution_count": 51,
      "outputs": []
    },
    {
      "cell_type": "code",
      "source": [
        "generator = define_generator(100)"
      ],
      "metadata": {
        "id": "3MzHdmko9bWj"
      },
      "execution_count": 52,
      "outputs": []
    },
    {
      "cell_type": "code",
      "source": [
        "def define_gan(g_model, d_model):\n",
        "    d_model.trainable = False\n",
        "    gan_output = d_model(g_model.output)\n",
        "    model = Model(g_model.input, gan_output)\n",
        "    opt = adam_v2.Adam(lr=0.0001, beta_1=0.5)\n",
        "    model.compile(loss='binary_crossentropy', optimizer=opt, metrics=['accuracy'])\n",
        "    return model "
      ],
      "metadata": {
        "id": "C5tcAYPb9hi4"
      },
      "execution_count": 53,
      "outputs": []
    },
    {
      "cell_type": "code",
      "source": [
        "gan_model = define_gan(generator, discriminator)"
      ],
      "metadata": {
        "id": "eBZLdj7gPs68"
      },
      "execution_count": 54,
      "outputs": []
    },
    {
      "cell_type": "code",
      "source": [
        "def train(g_model, d_model, gan_model, X_train, laten_dim, n_epochs=10, n_batch=128):\n",
        "    bat_per_epo = int(X_train.shape[0] / n_batch)\n",
        "    n_steps = bat_per_epo * n_epochs\n",
        "    for i in range(n_steps):\n",
        "        X_real, y_real = generate_real_samples(X_train, n_batch)\n",
        "        d_loss_r, d_acc_r = d_model.train_on_batch(X_train, y_train)\n",
        "        X_fake, y_fake = generate_fake_samples(g_model, laten_dim, n_batch)\n",
        "        d_loss_f, d_acc_f = d_model.train_on_batch(X_fake, y_fake)\n",
        "        z_input = generate_latent_points(latent_dim, n_batch)\n",
        "        y_gan = ones((n_batch, 1))\n",
        "        g_loss, g_acc = gan_model.train_on_batch(z_input, y_gan)\n",
        "        print('>%d, dr[%.3f,%.3f], df[%.3f,%.3f], g[%.3f,%3f]' % (i+1, d_loss_r, d_acc_r, d_loss_f, d_acc_f, g_loss, g_acc ))\n",
        "        if(i+1) % (bat_per_epo * 1) == 0:\n",
        "          summarize_performance(i, g_model, latent_dim)\n"
      ],
      "metadata": {
        "id": "kwcciMhpPz3K"
      },
      "execution_count": 55,
      "outputs": []
    },
    {
      "cell_type": "code",
      "source": [
        "latent_dim = 100\n",
        "train(generator, discriminator, gan_model, X_train, latent_dim, n_epochs=20, n_batch=64)"
      ],
      "metadata": {
        "id": "_XEw0xgedGiQ",
        "colab": {
          "base_uri": "https://localhost:8080/"
        },
        "outputId": "1fd70501-1a7d-4ef6-84a8-25f1476317c1"
      },
      "execution_count": null,
      "outputs": [
        {
          "output_type": "stream",
          "name": "stdout",
          "text": [
            ">1, dr[0.774,0.933], df[0.002,1.000], g[15.425,0.000000]\n",
            ">2, dr[1.028,0.933], df[0.000,1.000], g[15.425,0.000000]\n",
            ">3, dr[1.028,0.933], df[0.000,1.000], g[15.425,0.000000]\n",
            ">4, dr[1.028,0.933], df[0.000,1.000], g[15.425,0.000000]\n",
            ">5, dr[1.028,0.933], df[0.000,1.000], g[15.425,0.000000]\n",
            ">6, dr[1.028,0.933], df[0.000,1.000], g[15.425,0.000000]\n",
            ">7, dr[1.028,0.933], df[0.000,1.000], g[15.425,0.000000]\n",
            ">8, dr[1.028,0.933], df[0.000,1.000], g[15.425,0.000000]\n",
            ">9, dr[1.028,0.933], df[0.000,1.000], g[15.425,0.000000]\n",
            ">10, dr[1.028,0.933], df[0.000,1.000], g[15.425,0.000000]\n",
            ">11, dr[1.028,0.933], df[0.000,1.000], g[15.425,0.000000]\n",
            ">12, dr[1.028,0.933], df[0.000,1.000], g[15.425,0.000000]\n",
            ">13, dr[1.028,0.933], df[0.000,1.000], g[15.425,0.000000]\n",
            ">14, dr[1.028,0.933], df[0.000,1.000], g[15.425,0.000000]\n",
            ">15, dr[1.028,0.933], df[0.000,1.000], g[15.425,0.000000]\n",
            ">16, dr[1.028,0.933], df[0.000,1.000], g[15.425,0.000000]\n",
            ">17, dr[1.028,0.933], df[0.000,1.000], g[15.425,0.000000]\n",
            ">18, dr[1.028,0.933], df[0.000,1.000], g[15.425,0.000000]\n",
            ">19, dr[1.028,0.933], df[0.000,1.000], g[15.425,0.000000]\n",
            ">20, dr[1.028,0.933], df[0.000,1.000], g[15.425,0.000000]\n",
            ">21, dr[1.028,0.933], df[0.000,1.000], g[15.425,0.000000]\n",
            ">22, dr[1.028,0.933], df[0.000,1.000], g[15.425,0.000000]\n",
            ">23, dr[1.028,0.933], df[0.000,1.000], g[15.425,0.000000]\n",
            ">24, dr[1.028,0.933], df[0.000,1.000], g[15.425,0.000000]\n",
            ">25, dr[1.028,0.933], df[0.000,1.000], g[15.425,0.000000]\n",
            ">26, dr[1.028,0.933], df[0.000,1.000], g[15.425,0.000000]\n",
            ">27, dr[1.028,0.933], df[0.000,1.000], g[15.425,0.000000]\n",
            ">28, dr[1.028,0.933], df[0.000,1.000], g[15.425,0.000000]\n",
            ">29, dr[1.028,0.933], df[0.000,1.000], g[15.425,0.000000]\n",
            ">30, dr[1.028,0.933], df[0.000,1.000], g[15.425,0.000000]\n",
            ">31, dr[1.028,0.933], df[0.000,1.000], g[15.425,0.000000]\n",
            ">32, dr[1.028,0.933], df[0.000,1.000], g[15.425,0.000000]\n",
            ">33, dr[1.028,0.933], df[0.000,1.000], g[15.425,0.000000]\n",
            ">34, dr[1.028,0.933], df[0.000,1.000], g[15.425,0.000000]\n",
            ">35, dr[1.028,0.933], df[0.000,1.000], g[15.425,0.000000]\n",
            ">36, dr[1.028,0.933], df[0.000,1.000], g[15.425,0.000000]\n",
            ">37, dr[1.028,0.933], df[0.000,1.000], g[15.425,0.000000]\n",
            ">38, dr[1.028,0.933], df[0.000,1.000], g[15.425,0.000000]\n",
            ">39, dr[1.028,0.933], df[0.000,1.000], g[15.425,0.000000]\n",
            ">40, dr[1.028,0.933], df[0.000,1.000], g[15.425,0.000000]\n",
            ">41, dr[1.028,0.933], df[0.000,1.000], g[15.425,0.000000]\n",
            ">42, dr[1.028,0.933], df[0.000,1.000], g[15.425,0.000000]\n",
            ">43, dr[1.028,0.933], df[0.000,1.000], g[15.425,0.000000]\n",
            ">44, dr[1.028,0.933], df[0.000,1.000], g[15.425,0.000000]\n",
            ">45, dr[1.028,0.933], df[0.000,1.000], g[15.425,0.000000]\n",
            ">46, dr[1.028,0.933], df[0.000,1.000], g[15.425,0.000000]\n",
            ">47, dr[1.028,0.933], df[0.000,1.000], g[15.425,0.000000]\n",
            ">48, dr[1.028,0.933], df[0.000,1.000], g[15.425,0.000000]\n",
            ">49, dr[1.028,0.933], df[0.000,1.000], g[15.425,0.000000]\n",
            ">50, dr[1.028,0.933], df[0.000,1.000], g[15.425,0.000000]\n",
            ">51, dr[1.028,0.933], df[0.000,1.000], g[15.425,0.000000]\n",
            ">52, dr[1.028,0.933], df[0.000,1.000], g[15.425,0.000000]\n",
            ">53, dr[1.028,0.933], df[0.000,1.000], g[15.425,0.000000]\n",
            ">54, dr[1.028,0.933], df[0.000,1.000], g[15.425,0.000000]\n",
            ">55, dr[1.028,0.933], df[0.000,1.000], g[15.425,0.000000]\n",
            ">56, dr[1.028,0.933], df[0.000,1.000], g[15.425,0.000000]\n",
            ">57, dr[1.028,0.933], df[0.000,1.000], g[15.425,0.000000]\n",
            ">58, dr[1.028,0.933], df[0.000,1.000], g[15.425,0.000000]\n",
            ">59, dr[1.028,0.933], df[0.000,1.000], g[15.425,0.000000]\n",
            ">60, dr[1.028,0.933], df[0.000,1.000], g[15.425,0.000000]\n",
            ">61, dr[1.028,0.933], df[0.000,1.000], g[15.425,0.000000]\n",
            ">62, dr[1.028,0.933], df[0.000,1.000], g[15.425,0.000000]\n",
            ">63, dr[1.028,0.933], df[0.000,1.000], g[15.425,0.000000]\n",
            ">64, dr[1.028,0.933], df[0.000,1.000], g[15.425,0.000000]\n",
            ">65, dr[1.028,0.933], df[0.000,1.000], g[15.425,0.000000]\n",
            ">66, dr[1.028,0.933], df[0.000,1.000], g[15.425,0.000000]\n",
            ">67, dr[1.028,0.933], df[0.000,1.000], g[15.425,0.000000]\n",
            ">68, dr[1.028,0.933], df[0.000,1.000], g[15.425,0.000000]\n",
            ">69, dr[1.028,0.933], df[0.000,1.000], g[15.425,0.000000]\n",
            ">70, dr[1.028,0.933], df[0.000,1.000], g[15.425,0.000000]\n",
            ">71, dr[1.028,0.933], df[0.000,1.000], g[15.425,0.000000]\n",
            ">72, dr[1.028,0.933], df[0.000,1.000], g[15.425,0.000000]\n",
            ">73, dr[1.028,0.933], df[0.000,1.000], g[15.425,0.000000]\n",
            ">74, dr[1.028,0.933], df[0.000,1.000], g[15.425,0.000000]\n",
            ">75, dr[1.028,0.933], df[0.000,1.000], g[15.425,0.000000]\n",
            ">76, dr[1.028,0.933], df[0.000,1.000], g[15.425,0.000000]\n",
            ">77, dr[1.028,0.933], df[0.000,1.000], g[15.425,0.000000]\n",
            ">78, dr[1.028,0.933], df[0.000,1.000], g[15.425,0.000000]\n",
            ">79, dr[1.028,0.933], df[0.000,1.000], g[15.425,0.000000]\n",
            ">80, dr[1.028,0.933], df[0.000,1.000], g[15.425,0.000000]\n",
            ">81, dr[1.028,0.933], df[0.000,1.000], g[15.425,0.000000]\n",
            ">82, dr[1.028,0.933], df[0.000,1.000], g[15.425,0.000000]\n",
            ">83, dr[1.028,0.933], df[0.000,1.000], g[15.425,0.000000]\n",
            ">84, dr[1.028,0.933], df[0.000,1.000], g[15.425,0.000000]\n",
            ">85, dr[1.028,0.933], df[0.000,1.000], g[15.425,0.000000]\n",
            ">86, dr[1.028,0.933], df[0.000,1.000], g[15.425,0.000000]\n",
            ">87, dr[1.028,0.933], df[0.000,1.000], g[15.425,0.000000]\n",
            ">88, dr[1.028,0.933], df[0.000,1.000], g[15.425,0.000000]\n",
            ">89, dr[1.028,0.933], df[0.000,1.000], g[15.425,0.000000]\n",
            ">90, dr[1.028,0.933], df[0.000,1.000], g[15.425,0.000000]\n",
            ">91, dr[1.028,0.933], df[0.000,1.000], g[15.425,0.000000]\n",
            ">92, dr[1.028,0.933], df[0.000,1.000], g[15.425,0.000000]\n",
            ">93, dr[1.028,0.933], df[0.000,1.000], g[15.425,0.000000]\n",
            ">94, dr[1.028,0.933], df[0.000,1.000], g[15.425,0.000000]\n",
            ">95, dr[1.028,0.933], df[0.000,1.000], g[15.425,0.000000]\n",
            ">96, dr[1.028,0.933], df[0.000,1.000], g[15.425,0.000000]\n",
            ">97, dr[1.028,0.933], df[0.000,1.000], g[15.425,0.000000]\n",
            ">98, dr[1.028,0.933], df[0.000,1.000], g[15.425,0.000000]\n",
            ">Saved: model_0098.h5\n",
            ">99, dr[1.028,0.933], df[0.000,1.000], g[15.425,0.000000]\n",
            ">100, dr[1.028,0.933], df[0.000,1.000], g[15.425,0.000000]\n",
            ">101, dr[1.028,0.933], df[0.000,1.000], g[15.425,0.000000]\n",
            ">102, dr[1.028,0.933], df[0.000,1.000], g[15.425,0.000000]\n",
            ">103, dr[1.028,0.933], df[0.000,1.000], g[15.425,0.000000]\n",
            ">104, dr[1.028,0.933], df[0.000,1.000], g[15.425,0.000000]\n",
            ">105, dr[1.028,0.933], df[0.000,1.000], g[15.425,0.000000]\n",
            ">106, dr[1.028,0.933], df[0.000,1.000], g[15.425,0.000000]\n",
            ">107, dr[1.028,0.933], df[0.000,1.000], g[15.425,0.000000]\n",
            ">108, dr[1.028,0.933], df[0.000,1.000], g[15.425,0.000000]\n",
            ">109, dr[1.028,0.933], df[0.000,1.000], g[15.425,0.000000]\n",
            ">110, dr[1.028,0.933], df[0.000,1.000], g[15.425,0.000000]\n",
            ">111, dr[1.028,0.933], df[0.000,1.000], g[15.425,0.000000]\n",
            ">112, dr[1.028,0.933], df[0.000,1.000], g[15.425,0.000000]\n",
            ">113, dr[1.028,0.933], df[0.000,1.000], g[15.425,0.000000]\n",
            ">114, dr[1.028,0.933], df[0.000,1.000], g[15.425,0.000000]\n",
            ">115, dr[1.028,0.933], df[0.000,1.000], g[15.425,0.000000]\n",
            ">116, dr[1.028,0.933], df[0.000,1.000], g[15.425,0.000000]\n",
            ">117, dr[1.028,0.933], df[0.000,1.000], g[15.425,0.000000]\n",
            ">118, dr[1.028,0.933], df[0.000,1.000], g[15.425,0.000000]\n",
            ">119, dr[1.028,0.933], df[0.000,1.000], g[15.425,0.000000]\n",
            ">120, dr[1.028,0.933], df[0.000,1.000], g[15.425,0.000000]\n",
            ">121, dr[1.028,0.933], df[0.000,1.000], g[15.425,0.000000]\n",
            ">122, dr[1.028,0.933], df[0.000,1.000], g[15.425,0.000000]\n",
            ">123, dr[1.028,0.933], df[0.000,1.000], g[15.425,0.000000]\n",
            ">124, dr[1.028,0.933], df[0.000,1.000], g[15.425,0.000000]\n",
            ">125, dr[1.028,0.933], df[0.000,1.000], g[15.425,0.000000]\n",
            ">126, dr[1.028,0.933], df[0.000,1.000], g[15.425,0.000000]\n",
            ">127, dr[1.028,0.933], df[0.000,1.000], g[15.425,0.000000]\n",
            ">128, dr[1.028,0.933], df[0.000,1.000], g[15.425,0.000000]\n",
            ">129, dr[1.028,0.933], df[0.000,1.000], g[15.425,0.000000]\n",
            ">130, dr[1.028,0.933], df[0.000,1.000], g[15.425,0.000000]\n",
            ">131, dr[1.028,0.933], df[0.000,1.000], g[15.425,0.000000]\n",
            ">132, dr[1.028,0.933], df[0.000,1.000], g[15.425,0.000000]\n",
            ">133, dr[1.028,0.933], df[0.000,1.000], g[15.425,0.000000]\n",
            ">134, dr[1.028,0.933], df[0.000,1.000], g[15.425,0.000000]\n",
            ">135, dr[1.028,0.933], df[0.000,1.000], g[15.425,0.000000]\n",
            ">136, dr[1.028,0.933], df[0.000,1.000], g[15.425,0.000000]\n",
            ">137, dr[1.028,0.933], df[0.000,1.000], g[15.425,0.000000]\n",
            ">138, dr[1.028,0.933], df[0.000,1.000], g[15.425,0.000000]\n",
            ">139, dr[1.028,0.933], df[0.000,1.000], g[15.425,0.000000]\n",
            ">140, dr[1.028,0.933], df[0.000,1.000], g[15.425,0.000000]\n",
            ">141, dr[1.028,0.933], df[0.000,1.000], g[15.425,0.000000]\n",
            ">142, dr[1.028,0.933], df[0.000,1.000], g[15.425,0.000000]\n",
            ">143, dr[1.028,0.933], df[0.000,1.000], g[15.425,0.000000]\n",
            ">144, dr[1.028,0.933], df[0.000,1.000], g[15.425,0.000000]\n",
            ">145, dr[1.028,0.933], df[0.000,1.000], g[15.425,0.000000]\n",
            ">146, dr[1.028,0.933], df[0.000,1.000], g[15.425,0.000000]\n",
            ">147, dr[1.028,0.933], df[0.000,1.000], g[15.425,0.000000]\n",
            ">148, dr[1.028,0.933], df[0.000,1.000], g[15.425,0.000000]\n",
            ">149, dr[1.028,0.933], df[0.000,1.000], g[15.425,0.000000]\n",
            ">150, dr[1.028,0.933], df[0.000,1.000], g[15.425,0.000000]\n",
            ">151, dr[1.028,0.933], df[0.000,1.000], g[15.425,0.000000]\n",
            ">152, dr[1.028,0.933], df[0.000,1.000], g[15.425,0.000000]\n",
            ">153, dr[1.028,0.933], df[0.000,1.000], g[15.425,0.000000]\n",
            ">154, dr[1.028,0.933], df[0.000,1.000], g[15.425,0.000000]\n",
            ">155, dr[1.028,0.933], df[0.000,1.000], g[15.425,0.000000]\n",
            ">156, dr[1.028,0.933], df[0.000,1.000], g[15.425,0.000000]\n",
            ">157, dr[1.028,0.933], df[0.000,1.000], g[15.425,0.000000]\n",
            ">158, dr[1.028,0.933], df[0.000,1.000], g[15.425,0.000000]\n",
            ">159, dr[1.028,0.933], df[0.000,1.000], g[15.425,0.000000]\n",
            ">160, dr[1.028,0.933], df[0.000,1.000], g[15.425,0.000000]\n",
            ">161, dr[1.028,0.933], df[0.000,1.000], g[15.425,0.000000]\n",
            ">162, dr[1.028,0.933], df[0.000,1.000], g[15.425,0.000000]\n",
            ">163, dr[1.028,0.933], df[0.000,1.000], g[15.425,0.000000]\n",
            ">164, dr[1.028,0.933], df[0.000,1.000], g[15.425,0.000000]\n",
            ">165, dr[1.028,0.933], df[0.000,1.000], g[15.425,0.000000]\n",
            ">166, dr[1.028,0.933], df[0.000,1.000], g[15.425,0.000000]\n",
            ">167, dr[1.028,0.933], df[0.000,1.000], g[15.425,0.000000]\n",
            ">168, dr[1.028,0.933], df[0.000,1.000], g[15.425,0.000000]\n",
            ">169, dr[1.028,0.933], df[0.000,1.000], g[15.425,0.000000]\n",
            ">170, dr[1.028,0.933], df[0.000,1.000], g[15.425,0.000000]\n",
            ">171, dr[1.028,0.933], df[0.000,1.000], g[15.425,0.000000]\n",
            ">172, dr[1.028,0.933], df[0.000,1.000], g[15.425,0.000000]\n",
            ">173, dr[1.028,0.933], df[0.000,1.000], g[15.425,0.000000]\n",
            ">174, dr[1.028,0.933], df[0.000,1.000], g[15.425,0.000000]\n",
            ">175, dr[1.028,0.933], df[0.000,1.000], g[15.425,0.000000]\n",
            ">176, dr[1.028,0.933], df[0.000,1.000], g[15.425,0.000000]\n",
            ">177, dr[1.028,0.933], df[0.000,1.000], g[15.425,0.000000]\n",
            ">178, dr[1.028,0.933], df[0.000,1.000], g[15.425,0.000000]\n",
            ">179, dr[1.028,0.933], df[0.000,1.000], g[15.425,0.000000]\n",
            ">180, dr[1.028,0.933], df[0.000,1.000], g[15.425,0.000000]\n",
            ">181, dr[1.028,0.933], df[0.000,1.000], g[15.425,0.000000]\n",
            ">182, dr[1.028,0.933], df[0.000,1.000], g[15.425,0.000000]\n",
            ">183, dr[1.028,0.933], df[0.000,1.000], g[15.425,0.000000]\n",
            ">184, dr[1.028,0.933], df[0.000,1.000], g[15.425,0.000000]\n",
            ">185, dr[1.028,0.933], df[0.000,1.000], g[15.425,0.000000]\n",
            ">186, dr[1.028,0.933], df[0.000,1.000], g[15.425,0.000000]\n",
            ">187, dr[1.028,0.933], df[0.000,1.000], g[15.425,0.000000]\n",
            ">188, dr[1.028,0.933], df[0.000,1.000], g[15.425,0.000000]\n",
            ">189, dr[1.028,0.933], df[0.000,1.000], g[15.425,0.000000]\n",
            ">190, dr[1.028,0.933], df[0.000,1.000], g[15.425,0.000000]\n",
            ">191, dr[1.028,0.933], df[0.000,1.000], g[15.425,0.000000]\n",
            ">192, dr[1.028,0.933], df[0.000,1.000], g[15.425,0.000000]\n",
            ">193, dr[1.028,0.933], df[0.000,1.000], g[15.425,0.000000]\n",
            ">194, dr[1.028,0.933], df[0.000,1.000], g[15.425,0.000000]\n",
            ">195, dr[1.028,0.933], df[0.000,1.000], g[15.425,0.000000]\n",
            ">196, dr[1.028,0.933], df[0.000,1.000], g[15.425,0.000000]\n",
            ">Saved: model_0196.h5\n",
            ">197, dr[1.028,0.933], df[0.000,1.000], g[15.425,0.000000]\n",
            ">198, dr[1.028,0.933], df[0.000,1.000], g[15.425,0.000000]\n",
            ">199, dr[1.028,0.933], df[0.000,1.000], g[15.425,0.000000]\n",
            ">200, dr[1.028,0.933], df[0.000,1.000], g[15.425,0.000000]\n",
            ">201, dr[1.028,0.933], df[0.000,1.000], g[15.425,0.000000]\n",
            ">202, dr[1.028,0.933], df[0.000,1.000], g[15.425,0.000000]\n",
            ">203, dr[1.028,0.933], df[0.000,1.000], g[15.425,0.000000]\n",
            ">204, dr[1.028,0.933], df[0.000,1.000], g[15.425,0.000000]\n",
            ">205, dr[1.028,0.933], df[0.000,1.000], g[15.425,0.000000]\n",
            ">206, dr[1.028,0.933], df[0.000,1.000], g[15.425,0.000000]\n",
            ">207, dr[1.028,0.933], df[0.000,1.000], g[15.425,0.000000]\n",
            ">208, dr[1.028,0.933], df[0.000,1.000], g[15.425,0.000000]\n",
            ">209, dr[1.028,0.933], df[0.000,1.000], g[15.425,0.000000]\n",
            ">210, dr[1.028,0.933], df[0.000,1.000], g[15.425,0.000000]\n",
            ">211, dr[1.028,0.933], df[0.000,1.000], g[15.425,0.000000]\n",
            ">212, dr[1.028,0.933], df[0.000,1.000], g[15.425,0.000000]\n",
            ">213, dr[1.028,0.933], df[0.000,1.000], g[15.425,0.000000]\n",
            ">214, dr[1.028,0.933], df[0.000,1.000], g[15.425,0.000000]\n",
            ">215, dr[1.028,0.933], df[0.000,1.000], g[15.425,0.000000]\n",
            ">216, dr[1.028,0.933], df[0.000,1.000], g[15.425,0.000000]\n",
            ">217, dr[1.028,0.933], df[0.000,1.000], g[15.425,0.000000]\n",
            ">218, dr[1.028,0.933], df[0.000,1.000], g[15.425,0.000000]\n",
            ">219, dr[1.028,0.933], df[0.000,1.000], g[15.425,0.000000]\n",
            ">220, dr[1.028,0.933], df[0.000,1.000], g[15.425,0.000000]\n",
            ">221, dr[1.028,0.933], df[0.000,1.000], g[15.425,0.000000]\n",
            ">222, dr[1.028,0.933], df[0.000,1.000], g[15.425,0.000000]\n",
            ">223, dr[1.028,0.933], df[0.000,1.000], g[15.425,0.000000]\n",
            ">224, dr[1.028,0.933], df[0.000,1.000], g[15.425,0.000000]\n",
            ">225, dr[1.028,0.933], df[0.000,1.000], g[15.425,0.000000]\n",
            ">226, dr[1.028,0.933], df[0.000,1.000], g[15.425,0.000000]\n",
            ">227, dr[1.028,0.933], df[0.000,1.000], g[15.425,0.000000]\n",
            ">228, dr[1.028,0.933], df[0.000,1.000], g[15.425,0.000000]\n",
            ">229, dr[1.028,0.933], df[0.000,1.000], g[15.425,0.000000]\n",
            ">230, dr[1.028,0.933], df[0.000,1.000], g[15.425,0.000000]\n",
            ">231, dr[1.028,0.933], df[0.000,1.000], g[15.425,0.000000]\n",
            ">232, dr[1.028,0.933], df[0.000,1.000], g[15.425,0.000000]\n",
            ">233, dr[1.028,0.933], df[0.000,1.000], g[15.425,0.000000]\n",
            ">234, dr[1.028,0.933], df[0.000,1.000], g[15.425,0.000000]\n",
            ">235, dr[1.028,0.933], df[0.000,1.000], g[15.425,0.000000]\n",
            ">236, dr[1.028,0.933], df[0.000,1.000], g[15.425,0.000000]\n",
            ">237, dr[1.028,0.933], df[0.000,1.000], g[15.425,0.000000]\n",
            ">238, dr[1.028,0.933], df[0.000,1.000], g[15.425,0.000000]\n",
            ">239, dr[1.028,0.933], df[0.000,1.000], g[15.425,0.000000]\n",
            ">240, dr[1.028,0.933], df[0.000,1.000], g[15.425,0.000000]\n",
            ">241, dr[1.028,0.933], df[0.000,1.000], g[15.425,0.000000]\n",
            ">242, dr[1.028,0.933], df[0.000,1.000], g[15.425,0.000000]\n",
            ">243, dr[1.028,0.933], df[0.000,1.000], g[15.425,0.000000]\n",
            ">244, dr[1.028,0.933], df[0.000,1.000], g[15.425,0.000000]\n",
            ">245, dr[1.028,0.933], df[0.000,1.000], g[15.425,0.000000]\n",
            ">246, dr[1.028,0.933], df[0.000,1.000], g[15.425,0.000000]\n",
            ">247, dr[1.028,0.933], df[0.000,1.000], g[15.425,0.000000]\n",
            ">248, dr[1.028,0.933], df[0.000,1.000], g[15.425,0.000000]\n",
            ">249, dr[1.028,0.933], df[0.000,1.000], g[15.425,0.000000]\n",
            ">250, dr[1.028,0.933], df[0.000,1.000], g[15.425,0.000000]\n",
            ">251, dr[1.028,0.933], df[0.000,1.000], g[15.425,0.000000]\n",
            ">252, dr[1.028,0.933], df[0.000,1.000], g[15.425,0.000000]\n",
            ">253, dr[1.028,0.933], df[0.000,1.000], g[15.425,0.000000]\n",
            ">254, dr[1.028,0.933], df[0.000,1.000], g[15.425,0.000000]\n",
            ">255, dr[1.028,0.933], df[0.000,1.000], g[15.425,0.000000]\n",
            ">256, dr[1.028,0.933], df[0.000,1.000], g[15.425,0.000000]\n",
            ">257, dr[1.028,0.933], df[0.000,1.000], g[15.425,0.000000]\n",
            ">258, dr[1.028,0.933], df[0.000,1.000], g[15.425,0.000000]\n",
            ">259, dr[1.028,0.933], df[0.000,1.000], g[15.425,0.000000]\n",
            ">260, dr[1.028,0.933], df[0.000,1.000], g[15.425,0.000000]\n",
            ">261, dr[1.028,0.933], df[0.000,1.000], g[15.425,0.000000]\n",
            ">262, dr[1.028,0.933], df[0.000,1.000], g[15.425,0.000000]\n",
            ">263, dr[1.028,0.933], df[0.000,1.000], g[15.425,0.000000]\n",
            ">264, dr[1.028,0.933], df[0.000,1.000], g[15.425,0.000000]\n",
            ">265, dr[1.028,0.933], df[0.000,1.000], g[15.425,0.000000]\n",
            ">266, dr[1.028,0.933], df[0.000,1.000], g[15.425,0.000000]\n",
            ">267, dr[1.028,0.933], df[0.000,1.000], g[15.425,0.000000]\n",
            ">268, dr[1.028,0.933], df[0.000,1.000], g[15.425,0.000000]\n",
            ">269, dr[1.028,0.933], df[0.000,1.000], g[15.425,0.000000]\n",
            ">270, dr[1.028,0.933], df[0.000,1.000], g[15.425,0.000000]\n",
            ">271, dr[1.028,0.933], df[0.000,1.000], g[15.425,0.000000]\n",
            ">272, dr[1.028,0.933], df[0.000,1.000], g[15.425,0.000000]\n",
            ">273, dr[1.028,0.933], df[0.000,1.000], g[15.425,0.000000]\n",
            ">274, dr[1.028,0.933], df[0.000,1.000], g[15.425,0.000000]\n",
            ">275, dr[1.028,0.933], df[0.000,1.000], g[15.425,0.000000]\n",
            ">276, dr[1.028,0.933], df[0.000,1.000], g[15.425,0.000000]\n",
            ">277, dr[1.028,0.933], df[0.000,1.000], g[15.425,0.000000]\n",
            ">278, dr[1.028,0.933], df[0.000,1.000], g[15.425,0.000000]\n",
            ">279, dr[1.028,0.933], df[0.000,1.000], g[15.425,0.000000]\n",
            ">280, dr[1.028,0.933], df[0.000,1.000], g[15.425,0.000000]\n",
            ">281, dr[1.028,0.933], df[0.000,1.000], g[15.425,0.000000]\n",
            ">282, dr[1.028,0.933], df[0.000,1.000], g[15.425,0.000000]\n",
            ">283, dr[1.028,0.933], df[0.000,1.000], g[15.425,0.000000]\n",
            ">284, dr[1.028,0.933], df[0.000,1.000], g[15.425,0.000000]\n",
            ">285, dr[1.028,0.933], df[0.000,1.000], g[15.425,0.000000]\n",
            ">286, dr[1.028,0.933], df[0.000,1.000], g[15.425,0.000000]\n",
            ">287, dr[1.028,0.933], df[0.000,1.000], g[15.425,0.000000]\n",
            ">288, dr[1.028,0.933], df[0.000,1.000], g[15.425,0.000000]\n",
            ">289, dr[1.028,0.933], df[0.000,1.000], g[15.425,0.000000]\n",
            ">290, dr[1.028,0.933], df[0.000,1.000], g[15.425,0.000000]\n",
            ">291, dr[1.028,0.933], df[0.000,1.000], g[15.425,0.000000]\n",
            ">292, dr[1.028,0.933], df[0.000,1.000], g[15.425,0.000000]\n",
            ">293, dr[1.028,0.933], df[0.000,1.000], g[15.425,0.000000]\n",
            ">294, dr[1.028,0.933], df[0.000,1.000], g[15.425,0.000000]\n",
            ">Saved: model_0294.h5\n",
            ">295, dr[1.028,0.933], df[0.000,1.000], g[15.425,0.000000]\n",
            ">296, dr[1.028,0.933], df[0.000,1.000], g[15.425,0.000000]\n",
            ">297, dr[1.028,0.933], df[0.000,1.000], g[15.425,0.000000]\n",
            ">298, dr[1.028,0.933], df[0.000,1.000], g[15.425,0.000000]\n",
            ">299, dr[1.028,0.933], df[0.000,1.000], g[15.425,0.000000]\n",
            ">300, dr[1.028,0.933], df[0.000,1.000], g[15.425,0.000000]\n",
            ">301, dr[1.028,0.933], df[0.000,1.000], g[15.425,0.000000]\n",
            ">302, dr[1.028,0.933], df[0.000,1.000], g[15.425,0.000000]\n",
            ">303, dr[1.028,0.933], df[0.000,1.000], g[15.425,0.000000]\n",
            ">304, dr[1.028,0.933], df[0.000,1.000], g[15.425,0.000000]\n",
            ">305, dr[1.028,0.933], df[0.000,1.000], g[15.425,0.000000]\n",
            ">306, dr[1.028,0.933], df[0.000,1.000], g[15.425,0.000000]\n",
            ">307, dr[1.028,0.933], df[0.000,1.000], g[15.425,0.000000]\n",
            ">308, dr[1.028,0.933], df[0.000,1.000], g[15.425,0.000000]\n",
            ">309, dr[1.028,0.933], df[0.000,1.000], g[15.425,0.000000]\n",
            ">310, dr[1.028,0.933], df[0.000,1.000], g[15.425,0.000000]\n",
            ">311, dr[1.028,0.933], df[0.000,1.000], g[15.425,0.000000]\n",
            ">312, dr[1.028,0.933], df[0.000,1.000], g[15.425,0.000000]\n",
            ">313, dr[1.028,0.933], df[0.000,1.000], g[15.425,0.000000]\n",
            ">314, dr[1.028,0.933], df[0.000,1.000], g[15.425,0.000000]\n",
            ">315, dr[1.028,0.933], df[0.000,1.000], g[15.425,0.000000]\n",
            ">316, dr[1.028,0.933], df[0.000,1.000], g[15.425,0.000000]\n",
            ">317, dr[1.028,0.933], df[0.000,1.000], g[15.425,0.000000]\n",
            ">318, dr[1.028,0.933], df[0.000,1.000], g[15.425,0.000000]\n",
            ">319, dr[1.028,0.933], df[0.000,1.000], g[15.425,0.000000]\n",
            ">320, dr[1.028,0.933], df[0.000,1.000], g[15.425,0.000000]\n",
            ">321, dr[1.028,0.933], df[0.000,1.000], g[15.425,0.000000]\n",
            ">322, dr[1.028,0.933], df[0.000,1.000], g[15.425,0.000000]\n",
            ">323, dr[1.028,0.933], df[0.000,1.000], g[15.425,0.000000]\n",
            ">324, dr[1.028,0.933], df[0.000,1.000], g[15.425,0.000000]\n",
            ">325, dr[1.028,0.933], df[0.000,1.000], g[15.425,0.000000]\n",
            ">326, dr[1.028,0.933], df[0.000,1.000], g[15.425,0.000000]\n",
            ">327, dr[1.028,0.933], df[0.000,1.000], g[15.425,0.000000]\n",
            ">328, dr[1.028,0.933], df[0.000,1.000], g[15.425,0.000000]\n",
            ">329, dr[1.028,0.933], df[0.000,1.000], g[15.425,0.000000]\n",
            ">330, dr[1.028,0.933], df[0.000,1.000], g[15.425,0.000000]\n",
            ">331, dr[1.028,0.933], df[0.000,1.000], g[15.425,0.000000]\n",
            ">332, dr[1.028,0.933], df[0.000,1.000], g[15.425,0.000000]\n",
            ">333, dr[1.028,0.933], df[0.000,1.000], g[15.425,0.000000]\n",
            ">334, dr[1.028,0.933], df[0.000,1.000], g[15.425,0.000000]\n",
            ">335, dr[1.028,0.933], df[0.000,1.000], g[15.425,0.000000]\n",
            ">336, dr[1.028,0.933], df[0.000,1.000], g[15.425,0.000000]\n",
            ">337, dr[1.028,0.933], df[0.000,1.000], g[15.425,0.000000]\n",
            ">338, dr[1.028,0.933], df[0.000,1.000], g[15.425,0.000000]\n",
            ">339, dr[1.028,0.933], df[0.000,1.000], g[15.425,0.000000]\n",
            ">340, dr[1.028,0.933], df[0.000,1.000], g[15.425,0.000000]\n",
            ">341, dr[1.028,0.933], df[0.000,1.000], g[15.425,0.000000]\n",
            ">342, dr[1.028,0.933], df[0.000,1.000], g[15.425,0.000000]\n",
            ">343, dr[1.028,0.933], df[0.000,1.000], g[15.425,0.000000]\n",
            ">344, dr[1.028,0.933], df[0.000,1.000], g[15.425,0.000000]\n",
            ">345, dr[1.028,0.933], df[0.000,1.000], g[15.425,0.000000]\n",
            ">346, dr[1.028,0.933], df[0.000,1.000], g[15.425,0.000000]\n",
            ">347, dr[1.028,0.933], df[0.000,1.000], g[15.425,0.000000]\n",
            ">348, dr[1.028,0.933], df[0.000,1.000], g[15.425,0.000000]\n",
            ">349, dr[1.028,0.933], df[0.000,1.000], g[15.425,0.000000]\n",
            ">350, dr[1.028,0.933], df[0.000,1.000], g[15.425,0.000000]\n",
            ">351, dr[1.028,0.933], df[0.000,1.000], g[15.425,0.000000]\n",
            ">352, dr[1.028,0.933], df[0.000,1.000], g[15.425,0.000000]\n",
            ">353, dr[1.028,0.933], df[0.000,1.000], g[15.425,0.000000]\n",
            ">354, dr[1.028,0.933], df[0.000,1.000], g[15.425,0.000000]\n",
            ">355, dr[1.028,0.933], df[0.000,1.000], g[15.425,0.000000]\n",
            ">356, dr[1.028,0.933], df[0.000,1.000], g[15.425,0.000000]\n",
            ">357, dr[1.028,0.933], df[0.000,1.000], g[15.425,0.000000]\n",
            ">358, dr[1.028,0.933], df[0.000,1.000], g[15.425,0.000000]\n",
            ">359, dr[1.028,0.933], df[0.000,1.000], g[15.425,0.000000]\n",
            ">360, dr[1.028,0.933], df[0.000,1.000], g[15.425,0.000000]\n",
            ">361, dr[1.028,0.933], df[0.000,1.000], g[15.425,0.000000]\n",
            ">362, dr[1.028,0.933], df[0.000,1.000], g[15.425,0.000000]\n",
            ">363, dr[1.028,0.933], df[0.000,1.000], g[15.425,0.000000]\n",
            ">364, dr[1.028,0.933], df[0.000,1.000], g[15.425,0.000000]\n",
            ">365, dr[1.028,0.933], df[0.000,1.000], g[15.425,0.000000]\n",
            ">366, dr[1.028,0.933], df[0.000,1.000], g[15.425,0.000000]\n",
            ">367, dr[1.028,0.933], df[0.000,1.000], g[15.425,0.000000]\n",
            ">368, dr[1.028,0.933], df[0.000,1.000], g[15.425,0.000000]\n",
            ">369, dr[1.028,0.933], df[0.000,1.000], g[15.425,0.000000]\n",
            ">370, dr[1.028,0.933], df[0.000,1.000], g[15.425,0.000000]\n",
            ">371, dr[1.028,0.933], df[0.000,1.000], g[15.425,0.000000]\n",
            ">372, dr[1.028,0.933], df[0.000,1.000], g[15.425,0.000000]\n",
            ">373, dr[1.028,0.933], df[0.000,1.000], g[15.425,0.000000]\n",
            ">374, dr[1.028,0.933], df[0.000,1.000], g[15.425,0.000000]\n",
            ">375, dr[1.028,0.933], df[0.000,1.000], g[15.425,0.000000]\n",
            ">376, dr[1.028,0.933], df[0.000,1.000], g[15.425,0.000000]\n",
            ">377, dr[1.028,0.933], df[0.000,1.000], g[15.425,0.000000]\n",
            ">378, dr[1.028,0.933], df[0.000,1.000], g[15.425,0.000000]\n",
            ">379, dr[1.028,0.933], df[0.000,1.000], g[15.425,0.000000]\n",
            ">380, dr[1.028,0.933], df[0.000,1.000], g[15.425,0.000000]\n",
            ">381, dr[1.028,0.933], df[0.000,1.000], g[15.425,0.000000]\n",
            ">382, dr[1.028,0.933], df[0.000,1.000], g[15.425,0.000000]\n",
            ">383, dr[1.028,0.933], df[0.000,1.000], g[15.425,0.000000]\n",
            ">384, dr[1.028,0.933], df[0.000,1.000], g[15.425,0.000000]\n",
            ">385, dr[1.028,0.933], df[0.000,1.000], g[15.425,0.000000]\n",
            ">386, dr[1.028,0.933], df[0.000,1.000], g[15.425,0.000000]\n",
            ">387, dr[1.028,0.933], df[0.000,1.000], g[15.425,0.000000]\n",
            ">388, dr[1.028,0.933], df[0.000,1.000], g[15.425,0.000000]\n",
            ">389, dr[1.028,0.933], df[0.000,1.000], g[15.425,0.000000]\n",
            ">390, dr[1.028,0.933], df[0.000,1.000], g[15.425,0.000000]\n",
            ">391, dr[1.028,0.933], df[0.000,1.000], g[15.425,0.000000]\n",
            ">392, dr[1.028,0.933], df[0.000,1.000], g[15.425,0.000000]\n",
            ">Saved: model_0392.h5\n",
            ">393, dr[1.028,0.933], df[0.000,1.000], g[15.425,0.000000]\n",
            ">394, dr[1.028,0.933], df[0.000,1.000], g[15.425,0.000000]\n",
            ">395, dr[1.028,0.933], df[0.000,1.000], g[15.425,0.000000]\n",
            ">396, dr[1.028,0.933], df[0.000,1.000], g[15.425,0.000000]\n",
            ">397, dr[1.028,0.933], df[0.000,1.000], g[15.425,0.000000]\n",
            ">398, dr[1.028,0.933], df[0.000,1.000], g[15.425,0.000000]\n",
            ">399, dr[1.028,0.933], df[0.000,1.000], g[15.425,0.000000]\n",
            ">400, dr[1.028,0.933], df[0.000,1.000], g[15.425,0.000000]\n",
            ">401, dr[1.028,0.933], df[0.000,1.000], g[15.425,0.000000]\n",
            ">402, dr[1.028,0.933], df[0.000,1.000], g[15.425,0.000000]\n",
            ">403, dr[1.028,0.933], df[0.000,1.000], g[15.425,0.000000]\n",
            ">404, dr[1.028,0.933], df[0.000,1.000], g[15.425,0.000000]\n",
            ">405, dr[1.028,0.933], df[0.000,1.000], g[15.425,0.000000]\n",
            ">406, dr[1.028,0.933], df[0.000,1.000], g[15.425,0.000000]\n",
            ">407, dr[1.028,0.933], df[0.000,1.000], g[15.425,0.000000]\n",
            ">408, dr[1.028,0.933], df[0.000,1.000], g[15.425,0.000000]\n",
            ">409, dr[1.028,0.933], df[0.000,1.000], g[15.425,0.000000]\n",
            ">410, dr[1.028,0.933], df[0.000,1.000], g[15.425,0.000000]\n",
            ">411, dr[1.028,0.933], df[0.000,1.000], g[15.425,0.000000]\n",
            ">412, dr[1.028,0.933], df[0.000,1.000], g[15.425,0.000000]\n",
            ">413, dr[1.028,0.933], df[0.000,1.000], g[15.425,0.000000]\n",
            ">414, dr[1.028,0.933], df[0.000,1.000], g[15.425,0.000000]\n",
            ">415, dr[1.028,0.933], df[0.000,1.000], g[15.425,0.000000]\n",
            ">416, dr[1.028,0.933], df[0.000,1.000], g[15.425,0.000000]\n",
            ">417, dr[1.028,0.933], df[0.000,1.000], g[15.425,0.000000]\n",
            ">418, dr[1.028,0.933], df[0.000,1.000], g[15.425,0.000000]\n",
            ">419, dr[1.028,0.933], df[0.000,1.000], g[15.425,0.000000]\n",
            ">420, dr[1.028,0.933], df[0.000,1.000], g[15.425,0.000000]\n",
            ">421, dr[1.028,0.933], df[0.000,1.000], g[15.425,0.000000]\n",
            ">422, dr[1.028,0.933], df[0.000,1.000], g[15.425,0.000000]\n",
            ">423, dr[1.028,0.933], df[0.000,1.000], g[15.425,0.000000]\n",
            ">424, dr[1.028,0.933], df[0.000,1.000], g[15.425,0.000000]\n",
            ">425, dr[1.028,0.933], df[0.000,1.000], g[15.425,0.000000]\n",
            ">426, dr[1.028,0.933], df[0.000,1.000], g[15.425,0.000000]\n",
            ">427, dr[1.028,0.933], df[0.000,1.000], g[15.425,0.000000]\n",
            ">428, dr[1.028,0.933], df[0.000,1.000], g[15.425,0.000000]\n",
            ">429, dr[1.028,0.933], df[0.000,1.000], g[15.425,0.000000]\n",
            ">430, dr[1.028,0.933], df[0.000,1.000], g[15.425,0.000000]\n",
            ">431, dr[1.028,0.933], df[0.000,1.000], g[15.425,0.000000]\n",
            ">432, dr[1.028,0.933], df[0.000,1.000], g[15.425,0.000000]\n",
            ">433, dr[1.028,0.933], df[0.000,1.000], g[15.425,0.000000]\n",
            ">434, dr[1.028,0.933], df[0.000,1.000], g[15.425,0.000000]\n",
            ">435, dr[1.028,0.933], df[0.000,1.000], g[15.425,0.000000]\n",
            ">436, dr[1.028,0.933], df[0.000,1.000], g[15.425,0.000000]\n",
            ">437, dr[1.028,0.933], df[0.000,1.000], g[15.425,0.000000]\n",
            ">438, dr[1.028,0.933], df[0.000,1.000], g[15.425,0.000000]\n",
            ">439, dr[1.028,0.933], df[0.000,1.000], g[15.425,0.000000]\n",
            ">440, dr[1.028,0.933], df[0.000,1.000], g[15.425,0.000000]\n",
            ">441, dr[1.028,0.933], df[0.000,1.000], g[15.425,0.000000]\n",
            ">442, dr[1.028,0.933], df[0.000,1.000], g[15.425,0.000000]\n",
            ">443, dr[1.028,0.933], df[0.000,1.000], g[15.425,0.000000]\n",
            ">444, dr[1.028,0.933], df[0.000,1.000], g[15.425,0.000000]\n",
            ">445, dr[1.028,0.933], df[0.000,1.000], g[15.425,0.000000]\n",
            ">446, dr[1.028,0.933], df[0.000,1.000], g[15.425,0.000000]\n",
            ">447, dr[1.028,0.933], df[0.000,1.000], g[15.425,0.000000]\n",
            ">448, dr[1.028,0.933], df[0.000,1.000], g[15.425,0.000000]\n",
            ">449, dr[1.028,0.933], df[0.000,1.000], g[15.425,0.000000]\n",
            ">450, dr[1.028,0.933], df[0.000,1.000], g[15.425,0.000000]\n",
            ">451, dr[1.028,0.933], df[0.000,1.000], g[15.425,0.000000]\n",
            ">452, dr[1.028,0.933], df[0.000,1.000], g[15.425,0.000000]\n",
            ">453, dr[1.028,0.933], df[0.000,1.000], g[15.425,0.000000]\n",
            ">454, dr[1.028,0.933], df[0.000,1.000], g[15.425,0.000000]\n",
            ">455, dr[1.028,0.933], df[0.000,1.000], g[15.425,0.000000]\n",
            ">456, dr[1.028,0.933], df[0.000,1.000], g[15.425,0.000000]\n",
            ">457, dr[1.028,0.933], df[0.000,1.000], g[15.425,0.000000]\n",
            ">458, dr[1.028,0.933], df[0.000,1.000], g[15.425,0.000000]\n",
            ">459, dr[1.028,0.933], df[0.000,1.000], g[15.425,0.000000]\n",
            ">460, dr[1.028,0.933], df[0.000,1.000], g[15.425,0.000000]\n",
            ">461, dr[1.028,0.933], df[0.000,1.000], g[15.425,0.000000]\n",
            ">462, dr[1.028,0.933], df[0.000,1.000], g[15.425,0.000000]\n",
            ">463, dr[1.028,0.933], df[0.000,1.000], g[15.425,0.000000]\n",
            ">464, dr[1.028,0.933], df[0.000,1.000], g[15.425,0.000000]\n",
            ">465, dr[1.028,0.933], df[0.000,1.000], g[15.425,0.000000]\n",
            ">466, dr[1.028,0.933], df[0.000,1.000], g[15.425,0.000000]\n",
            ">467, dr[1.028,0.933], df[0.000,1.000], g[15.425,0.000000]\n",
            ">468, dr[1.028,0.933], df[0.000,1.000], g[15.425,0.000000]\n",
            ">469, dr[1.028,0.933], df[0.000,1.000], g[15.425,0.000000]\n",
            ">470, dr[1.028,0.933], df[0.000,1.000], g[15.425,0.000000]\n",
            ">471, dr[1.028,0.933], df[0.000,1.000], g[15.425,0.000000]\n",
            ">472, dr[1.028,0.933], df[0.000,1.000], g[15.425,0.000000]\n",
            ">473, dr[1.028,0.933], df[0.000,1.000], g[15.425,0.000000]\n",
            ">474, dr[1.028,0.933], df[0.000,1.000], g[15.425,0.000000]\n",
            ">475, dr[1.028,0.933], df[0.000,1.000], g[15.425,0.000000]\n",
            ">476, dr[1.028,0.933], df[0.000,1.000], g[15.425,0.000000]\n",
            ">477, dr[1.028,0.933], df[0.000,1.000], g[15.425,0.000000]\n",
            ">478, dr[1.028,0.933], df[0.000,1.000], g[15.425,0.000000]\n",
            ">479, dr[1.028,0.933], df[0.000,1.000], g[15.425,0.000000]\n",
            ">480, dr[1.028,0.933], df[0.000,1.000], g[15.425,0.000000]\n",
            ">481, dr[1.028,0.933], df[0.000,1.000], g[15.425,0.000000]\n",
            ">482, dr[1.028,0.933], df[0.000,1.000], g[15.425,0.000000]\n",
            ">483, dr[1.028,0.933], df[0.000,1.000], g[15.425,0.000000]\n",
            ">484, dr[1.028,0.933], df[0.000,1.000], g[15.425,0.000000]\n",
            ">485, dr[1.028,0.933], df[0.000,1.000], g[15.425,0.000000]\n",
            ">486, dr[1.028,0.933], df[0.000,1.000], g[15.425,0.000000]\n",
            ">487, dr[1.028,0.933], df[0.000,1.000], g[15.425,0.000000]\n",
            ">488, dr[1.028,0.933], df[0.000,1.000], g[15.425,0.000000]\n",
            ">489, dr[1.028,0.933], df[0.000,1.000], g[15.425,0.000000]\n",
            ">490, dr[1.028,0.933], df[0.000,1.000], g[15.425,0.000000]\n",
            ">Saved: model_0490.h5\n",
            ">491, dr[1.028,0.933], df[0.000,1.000], g[15.425,0.000000]\n",
            ">492, dr[1.028,0.933], df[0.000,1.000], g[15.425,0.000000]\n",
            ">493, dr[1.028,0.933], df[0.000,1.000], g[15.425,0.000000]\n",
            ">494, dr[1.028,0.933], df[0.000,1.000], g[15.425,0.000000]\n",
            ">495, dr[1.028,0.933], df[0.000,1.000], g[15.425,0.000000]\n",
            ">496, dr[1.028,0.933], df[0.000,1.000], g[15.425,0.000000]\n",
            ">497, dr[1.028,0.933], df[0.000,1.000], g[15.425,0.000000]\n",
            ">498, dr[1.028,0.933], df[0.000,1.000], g[15.425,0.000000]\n",
            ">499, dr[1.028,0.933], df[0.000,1.000], g[15.425,0.000000]\n",
            ">500, dr[1.028,0.933], df[0.000,1.000], g[15.425,0.000000]\n",
            ">501, dr[1.028,0.933], df[0.000,1.000], g[15.425,0.000000]\n",
            ">502, dr[1.028,0.933], df[0.000,1.000], g[15.425,0.000000]\n",
            ">503, dr[1.028,0.933], df[0.000,1.000], g[15.425,0.000000]\n",
            ">504, dr[1.028,0.933], df[0.000,1.000], g[15.425,0.000000]\n",
            ">505, dr[1.028,0.933], df[0.000,1.000], g[15.425,0.000000]\n",
            ">506, dr[1.028,0.933], df[0.000,1.000], g[15.425,0.000000]\n",
            ">507, dr[1.028,0.933], df[0.000,1.000], g[15.425,0.000000]\n",
            ">508, dr[1.028,0.933], df[0.000,1.000], g[15.425,0.000000]\n",
            ">509, dr[1.028,0.933], df[0.000,1.000], g[15.425,0.000000]\n",
            ">510, dr[1.028,0.933], df[0.000,1.000], g[15.425,0.000000]\n",
            ">511, dr[1.028,0.933], df[0.000,1.000], g[15.425,0.000000]\n",
            ">512, dr[1.028,0.933], df[0.000,1.000], g[15.425,0.000000]\n",
            ">513, dr[1.028,0.933], df[0.000,1.000], g[15.425,0.000000]\n",
            ">514, dr[1.028,0.933], df[0.000,1.000], g[15.425,0.000000]\n",
            ">515, dr[1.028,0.933], df[0.000,1.000], g[15.425,0.000000]\n",
            ">516, dr[1.028,0.933], df[0.000,1.000], g[15.425,0.000000]\n",
            ">517, dr[1.028,0.933], df[0.000,1.000], g[15.425,0.000000]\n",
            ">518, dr[1.028,0.933], df[0.000,1.000], g[15.425,0.000000]\n",
            ">519, dr[1.028,0.933], df[0.000,1.000], g[15.425,0.000000]\n",
            ">520, dr[1.028,0.933], df[0.000,1.000], g[15.425,0.000000]\n",
            ">521, dr[1.028,0.933], df[0.000,1.000], g[15.425,0.000000]\n",
            ">522, dr[1.028,0.933], df[0.000,1.000], g[15.425,0.000000]\n",
            ">523, dr[1.028,0.933], df[0.000,1.000], g[15.425,0.000000]\n",
            ">524, dr[1.028,0.933], df[0.000,1.000], g[15.425,0.000000]\n",
            ">525, dr[1.028,0.933], df[0.000,1.000], g[15.425,0.000000]\n",
            ">526, dr[1.028,0.933], df[0.000,1.000], g[15.425,0.000000]\n",
            ">527, dr[1.028,0.933], df[0.000,1.000], g[15.425,0.000000]\n",
            ">528, dr[1.028,0.933], df[0.000,1.000], g[15.425,0.000000]\n",
            ">529, dr[1.028,0.933], df[0.000,1.000], g[15.425,0.000000]\n",
            ">530, dr[1.028,0.933], df[0.000,1.000], g[15.425,0.000000]\n",
            ">531, dr[1.028,0.933], df[0.000,1.000], g[15.425,0.000000]\n",
            ">532, dr[1.028,0.933], df[0.000,1.000], g[15.425,0.000000]\n",
            ">533, dr[1.028,0.933], df[0.000,1.000], g[15.425,0.000000]\n",
            ">534, dr[1.028,0.933], df[0.000,1.000], g[15.425,0.000000]\n",
            ">535, dr[1.028,0.933], df[0.000,1.000], g[15.425,0.000000]\n",
            ">536, dr[1.028,0.933], df[0.000,1.000], g[15.425,0.000000]\n",
            ">537, dr[1.028,0.933], df[0.000,1.000], g[15.425,0.000000]\n",
            ">538, dr[1.028,0.933], df[0.000,1.000], g[15.425,0.000000]\n",
            ">539, dr[1.028,0.933], df[0.000,1.000], g[15.425,0.000000]\n",
            ">540, dr[1.028,0.933], df[0.000,1.000], g[15.425,0.000000]\n",
            ">541, dr[1.028,0.933], df[0.000,1.000], g[15.425,0.000000]\n",
            ">542, dr[1.028,0.933], df[0.000,1.000], g[15.425,0.000000]\n",
            ">543, dr[1.028,0.933], df[0.000,1.000], g[15.425,0.000000]\n",
            ">544, dr[1.028,0.933], df[0.000,1.000], g[15.425,0.000000]\n",
            ">545, dr[1.028,0.933], df[0.000,1.000], g[15.425,0.000000]\n",
            ">546, dr[1.028,0.933], df[0.000,1.000], g[15.425,0.000000]\n",
            ">547, dr[1.028,0.933], df[0.000,1.000], g[15.425,0.000000]\n",
            ">548, dr[1.028,0.933], df[0.000,1.000], g[15.425,0.000000]\n",
            ">549, dr[1.028,0.933], df[0.000,1.000], g[15.425,0.000000]\n",
            ">550, dr[1.028,0.933], df[0.000,1.000], g[15.425,0.000000]\n",
            ">551, dr[1.028,0.933], df[0.000,1.000], g[15.425,0.000000]\n",
            ">552, dr[1.028,0.933], df[0.000,1.000], g[15.425,0.000000]\n",
            ">553, dr[1.028,0.933], df[0.000,1.000], g[15.425,0.000000]\n",
            ">554, dr[1.028,0.933], df[0.000,1.000], g[15.425,0.000000]\n"
          ]
        }
      ]
    },
    {
      "cell_type": "code",
      "source": [
        "model = load_model('model_18740.h5')\n",
        "latent_dim = 100\n",
        "n_examples = 5574\n",
        "laten_points = generate_latent_points(latent_dim, n_examples)\n",
        "X = model.predict(latent_points)\n",
        "X = (X + 1) / 2.0"
      ],
      "metadata": {
        "id": "NQJfyWMDggTt"
      },
      "execution_count": null,
      "outputs": []
    },
    {
      "cell_type": "code",
      "source": [
        "# plot the GAN model\n",
        "plot_model(gan_model, to_file = 'gan_plot.png', show_shapes=True, show_layer_names=True)"
      ],
      "metadata": {
        "id": "cpk8xhgZg51p"
      },
      "execution_count": null,
      "outputs": []
    },
    {
      "cell_type": "code",
      "source": [
        "X.shape"
      ],
      "metadata": {
        "id": "HxuOwMpEhIC9"
      },
      "execution_count": null,
      "outputs": []
    },
    {
      "cell_type": "code",
      "source": [
        "#split into train and test sets\n",
        "train_size = int(len(final_data) * 0.7)\n",
        "test_size = len(final_data) - train_size\n",
        "train = final_data[test_size:len(final_data)]\n",
        "test = final_data[train_size:len(final_data)]\n",
        "print(len(train), len(test))\n",
        "\n",
        "#making the training data out of original dataframe\n",
        "\n",
        "training_set = train.iloc[:].values\n",
        "X_train = []\n",
        "y_train = []\n",
        "for i in range(100, training_set.shape[0]):\n",
        "  X_train.append(training_set[i-100:i, 0])\n",
        "  y_train.append(training_set[i, 0])\n",
        "X_train, y_train = np.array(X_train), np.array(y_train)\n",
        "\n",
        "#making the testubg data out of original dataframe\n",
        "\n",
        "testing_set = test.iloc[:].values\n",
        "X_test = []\n",
        "y_test = []\n",
        "for i in range(100, testing_set.shape[0]):\n",
        "  X_test.append(testing_set[i-100:i, 0])\n",
        "  y_test.append(testing_set[i, 0])\n",
        "X_test, y_test = np.array(X_test), np.array(y_test)"
      ],
      "metadata": {
        "id": "dQKTJaq6hJEg"
      },
      "execution_count": null,
      "outputs": []
    },
    {
      "cell_type": "code",
      "source": [
        "# save the model for the future use as it takes hours to be trained\n",
        "model.save('alexfruit.h5')"
      ],
      "metadata": {
        "id": "oz2QQY9Hjdww"
      },
      "execution_count": null,
      "outputs": []
    },
    {
      "cell_type": "code",
      "source": [
        "#pick the first fully connected layer as the features which will be of dimension (1 x 100)\n",
        "layer_name = 'dense_148'\n",
        "FC_layer_model = Model(inputs=model.input, outputs=model.get_layer(layer_name).output)"
      ],
      "metadata": {
        "id": "M3GEG1Gtj1b5"
      },
      "execution_count": null,
      "outputs": []
    },
    {
      "cell_type": "code",
      "source": [
        "#find the features for n number of train images and we will get nx100 \n",
        "#this means we will get 100 features for each value\n",
        "i=0\n",
        "features = np.zeros(shape=(X_train.shape[0], 100))\n",
        "for directory_path in glob.glob(\"Examples/Trainexample1/*\"):\n",
        "  for img_path in glob.glob(os.path.join(directory_path, \"*.jpg\")):\n",
        "    img = cv2.imread(img_path, cv2.IMREAD_COLOR)\n",
        "    img = cv2.resize(img, (227, 227))\n",
        "    img = cv2.cvtColor(img, cv2.COLOR_RGB2BGR)\n",
        "    img = np.expand_dims(img, axis=0)\n",
        "    FC_output = FC_layer_model.predict(img)\n",
        "    features[i] = FC_output\n",
        "    i+=1"
      ],
      "metadata": {
        "id": "xBlpIpIIkPzw"
      },
      "execution_count": null,
      "outputs": []
    },
    {
      "cell_type": "code",
      "source": [
        "#save the features of the train images to use it in the future\n",
        "np.save('features', feature)"
      ],
      "metadata": {
        "id": "FSWkQI4ZjhBM"
      },
      "execution_count": null,
      "outputs": []
    },
    {
      "cell_type": "code",
      "source": [
        "# name the feature rows as f_, f_1, f_2...\n",
        "feature_col=[]\n",
        "for i in range(100):\n",
        "  feature_col.append(\"f_\"+str(i))\n",
        "  i+=1"
      ],
      "metadata": {
        "id": "oeFgqly7l4au"
      },
      "execution_count": null,
      "outputs": []
    },
    {
      "cell_type": "code",
      "source": [
        "#create dataframe with features and column name\n",
        "train_features=pd.DataFrame(data=X_train, columns=feature_col)\n",
        "feature_col = np.array(feature_col)\n",
        "\n",
        "train_class = list(np.unique(y_train))\n",
        "print('Training Features Shape:', train_feature.shape)\n",
        "print('Training Labels Shape:', y_train.shape)\n",
        "train_class"
      ],
      "metadata": {
        "id": "ooeCBzAymFHe"
      },
      "execution_count": null,
      "outputs": []
    },
    {
      "cell_type": "markdown",
      "source": [
        "Random Forest"
      ],
      "metadata": {
        "id": "27tQZblT_PAm"
      }
    },
    {
      "cell_type": "code",
      "source": [
        "# define the model \n",
        "rf = RandomForestRegressor(n_estimators=30, verbose=2, random_state=42, n_jobs = -1 )"
      ],
      "metadata": {
        "id": "qK9rgKS3_bO-"
      },
      "execution_count": null,
      "outputs": []
    },
    {
      "cell_type": "code",
      "source": [
        "# printing the model parameters\n",
        "rf.get_params()"
      ],
      "metadata": {
        "id": "fmrBz5KsFX3-"
      },
      "execution_count": null,
      "outputs": []
    },
    {
      "cell_type": "code",
      "source": [
        "y_test.shape"
      ],
      "metadata": {
        "id": "07sXRv60Fc56"
      },
      "execution_count": null,
      "outputs": []
    },
    {
      "cell_type": "code",
      "source": [
        "# feed the extracted features with the labels to RANDOM FOREST\n",
        "rf.fit(train_features, y_train)\n"
      ],
      "metadata": {
        "id": "9UAaMesLFfDC"
      },
      "execution_count": null,
      "outputs": []
    },
    {
      "cell_type": "code",
      "source": [
        "# find the features from Alexnet's FC layer for n number of test images and we will get n x 100\n",
        "#The glob. glob returns the list of files with their full path (unlike os. listdir()) and is more powerful than os. listdir that does not use wildcards\n",
        "i = 0\n",
        "features_test = np.zeros(shape=(y_test.shape[0], 100))\n",
        "for directory_path in glob.glob(\"Example/Validation-Example1//*\"):\n",
        "  for img_path in glob.glob(os.path.join(directory_path, \"*.jpg\")):\n",
        "    img = cv2.imread(img_path, cv2.IMREAD_COLOR)\n",
        "    img = cv2.resize(img, (227, 227))\n",
        "    img = cv2.cvtColor(img, cv2.COLOR_RGB2BGR)\n",
        "    img = np.expand_dims(img, axis=0)\n",
        "    FC_output = FC_layer_model.predict(img)\n",
        "    features_test[i]=FC_output\n",
        "    i+=1\n"
      ],
      "metadata": {
        "id": "rYnL8q72I40y"
      },
      "execution_count": null,
      "outputs": []
    },
    {
      "cell_type": "code",
      "source": [
        "# create dataframe with features and column name\n",
        "test_features=pd.DataFrame(data=features_test, columns=feature_col)\n",
        "feature_col = np.array(feature_col)\n",
        "\n",
        "print('Test Features Shape:', test_features.shape)\n",
        "print('Test Labels Shape:', y_test.shape)"
      ],
      "metadata": {
        "id": "ea5ZOCzugLRT"
      },
      "execution_count": null,
      "outputs": []
    },
    {
      "cell_type": "code",
      "source": [
        "# feed the features of the test images to Random Forest Classifier to predict its class\n",
        "predictions = rf.predict(test_features)"
      ],
      "metadata": {
        "id": "iEq3qKgpg5U5"
      },
      "execution_count": null,
      "outputs": []
    },
    {
      "cell_type": "code",
      "source": [
        "features_test.shape"
      ],
      "metadata": {
        "id": "3Wu86fzoj-s5"
      },
      "execution_count": null,
      "outputs": []
    },
    {
      "cell_type": "code",
      "source": [
        "print('Random Forrest Model score Percentage:', rf.score(train_features, y_train)*100)"
      ],
      "metadata": {
        "id": "_KhCmbj8kcMQ"
      },
      "execution_count": null,
      "outputs": []
    },
    {
      "cell_type": "code",
      "source": [
        "print('MAPE:', mean_absolute_percentage_error(y_test, predictions))"
      ],
      "metadata": {
        "id": "rBfL_P_3qftv"
      },
      "execution_count": null,
      "outputs": []
    },
    {
      "cell_type": "code",
      "source": [
        "print('MAE:', MAE(y_test, predictions))"
      ],
      "metadata": {
        "id": "fG3w1od8q4aD"
      },
      "execution_count": null,
      "outputs": []
    },
    {
      "cell_type": "markdown",
      "source": [
        "SVM"
      ],
      "metadata": {
        "id": "jCksJsQOq-xC"
      }
    },
    {
      "cell_type": "code",
      "source": [
        " # define the model and parameters\n",
        " svr_linear = SVR(kernel='linear', C=0.5, gamma=5, epsilon=0.01)\n",
        " parameters = {'kernel':('linear', 'rbf'), 'C':[1, 10]}\n",
        " ## using grid cv approach\n",
        " SVM = GridSearchCV(svr_linear, parameters)"
      ],
      "metadata": {
        "id": "psml58D7rAXn"
      },
      "execution_count": null,
      "outputs": []
    },
    {
      "cell_type": "code",
      "source": [
        "# overview of parameters\n",
        "SVM.get_params()"
      ],
      "metadata": {
        "id": "wN5RZqZ986a-"
      },
      "execution_count": null,
      "outputs": []
    },
    {
      "cell_type": "code",
      "source": [
        "# fitting the model on train data\n",
        "SVM.get_params()"
      ],
      "metadata": {
        "id": "S3ytz7SA9FRi"
      },
      "execution_count": null,
      "outputs": []
    },
    {
      "cell_type": "code",
      "source": [
        ""
      ],
      "metadata": {
        "id": "N1Ww5YSX_Zm0"
      },
      "execution_count": null,
      "outputs": []
    }
  ]
}