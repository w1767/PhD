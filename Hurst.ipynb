{
  "nbformat": 4,
  "nbformat_minor": 0,
  "metadata": {
    "colab": {
      "name": "Hurst.ipynb",
      "provenance": [],
      "collapsed_sections": [],
      "authorship_tag": "ABX9TyPfB6V7QBuIxp4eFs5nbC9N",
      "include_colab_link": true
    },
    "kernelspec": {
      "name": "python3",
      "display_name": "Python 3"
    },
    "language_info": {
      "name": "python"
    }
  },
  "cells": [
    {
      "cell_type": "markdown",
      "metadata": {
        "id": "view-in-github",
        "colab_type": "text"
      },
      "source": [
        "<a href=\"https://colab.research.google.com/github/w1767/PhD/blob/main/Hurst.ipynb\" target=\"_parent\"><img src=\"https://colab.research.google.com/assets/colab-badge.svg\" alt=\"Open In Colab\"/></a>"
      ]
    },
    {
      "cell_type": "code",
      "execution_count": 1,
      "metadata": {
        "id": "__uwh-tiAYeg"
      },
      "outputs": [],
      "source": [
        "#Hurst exponent evaluation and R/S-analysis"
      ]
    },
    {
      "cell_type": "markdown",
      "source": [
        "hurst is a small Python module for analysing random walks and evaluating the Hurst exponent (H).\n",
        "\n",
        "H = 0.5 — Brownian motion,\n",
        "0.5 < H < 1.0 — persistent behavior,\n",
        "0 < H < 0.5 — anti-persistent behavior."
      ],
      "metadata": {
        "id": "UMQflYyrAa_N"
      }
    },
    {
      "cell_type": "markdown",
      "source": [
        "Install hurst module with\n",
        "pip install hurst"
      ],
      "metadata": {
        "id": "UN9gIECkAqfD"
      }
    },
    {
      "cell_type": "code",
      "source": [
        "!pip install hurst"
      ],
      "metadata": {
        "colab": {
          "base_uri": "https://localhost:8080/"
        },
        "id": "FWnm7z1uApeb",
        "outputId": "89080b94-9aa4-4391-e34d-914db7eb8afa"
      },
      "execution_count": 2,
      "outputs": [
        {
          "output_type": "stream",
          "name": "stdout",
          "text": [
            "Looking in indexes: https://pypi.org/simple, https://us-python.pkg.dev/colab-wheels/public/simple/\n",
            "Collecting hurst\n",
            "  Downloading hurst-0.0.5-py3-none-any.whl (5.9 kB)\n",
            "Requirement already satisfied: pandas>=0.18 in /usr/local/lib/python3.7/dist-packages (from hurst) (1.3.5)\n",
            "Requirement already satisfied: numpy>=1.10 in /usr/local/lib/python3.7/dist-packages (from hurst) (1.21.6)\n",
            "Requirement already satisfied: pytz>=2017.3 in /usr/local/lib/python3.7/dist-packages (from pandas>=0.18->hurst) (2022.1)\n",
            "Requirement already satisfied: python-dateutil>=2.7.3 in /usr/local/lib/python3.7/dist-packages (from pandas>=0.18->hurst) (2.8.2)\n",
            "Requirement already satisfied: six>=1.5 in /usr/local/lib/python3.7/dist-packages (from python-dateutil>=2.7.3->pandas>=0.18->hurst) (1.15.0)\n",
            "Installing collected packages: hurst\n",
            "Successfully installed hurst-0.0.5\n"
          ]
        }
      ]
    },
    {
      "cell_type": "code",
      "source": [
        "import numpy as np\n",
        "import matplotlib.pyplot as plt\n",
        "from hurst import compute_Hc, random_walk\n",
        "\n",
        "# Use random_walk() function or generate a random walk series manually:\n",
        "# series = random_walk(99999, cumprod=True)\n",
        "np.random.seed(42)\n",
        "random_changes = 1. + np.random.randn(99999) / 1000.\n",
        "series = np.cumprod(random_changes)  # create a random walk from random changes\n",
        "\n",
        "# Evaluate Hurst equation\n",
        "H, c, data = compute_Hc(series, kind='price', simplified=True)\n",
        "\n",
        "# Plot\n",
        "f, ax = plt.subplots()\n",
        "ax.plot(data[0], c*data[0]**H, color=\"deepskyblue\")\n",
        "ax.scatter(data[0], data[1], color=\"purple\")\n",
        "ax.set_xscale('log')\n",
        "ax.set_yscale('log')\n",
        "ax.set_xlabel('Time interval')\n",
        "ax.set_ylabel('R/S ratio')\n",
        "ax.grid(True)\n",
        "plt.show()\n",
        "\n",
        "print(\"H={:.4f}, c={:.4f}\".format(H,c))\n"
      ],
      "metadata": {
        "colab": {
          "base_uri": "https://localhost:8080/",
          "height": 300
        },
        "id": "bRktOPI0Awpj",
        "outputId": "d9a4b85d-986b-4eee-e6d2-9c29347c6532"
      },
      "execution_count": 3,
      "outputs": [
        {
          "output_type": "display_data",
          "data": {
            "text/plain": [
              "<Figure size 432x288 with 1 Axes>"
            ],
            "image/png": "[encoded data removed]"
          },
          "metadata": {
            "needs_background": "light"
          }
        },
        {
          "output_type": "stream",
          "name": "stdout",
          "text": [
            "H=0.5183, c=1.3587\n"
          ]
        }
      ]
    },
    {
      "cell_type": "markdown",
      "source": [
        "Kinds of series\n",
        "The kind parameter of the compute_Hc function can have the following values:\n",
        "'change': a series is just random values (i.e. np.random.randn(...))\n",
        "'random_walk': a series is a cumulative sum of changes (i.e. np.cumsum(np.random.randn(...)))\n",
        "'price': a series is a cumulative product of changes (i.e. np.cumprod(1+epsilon*np.random.randn(...))"
      ],
      "metadata": {
        "id": "NJcF_BeBA9Sq"
      }
    },
    {
      "cell_type": "markdown",
      "source": [
        "Brownian motion, persistent and antipersistent random walks"
      ],
      "metadata": {
        "id": "zIsfYjpIBBIS"
      }
    },
    {
      "cell_type": "code",
      "source": [
        "#You can generate random walks with random_walk() function as following:\n",
        "#Brownian\n",
        "brownian = random_walk(99999, proba=0.5)"
      ],
      "metadata": {
        "id": "RELF3Kw2A6er"
      },
      "execution_count": 4,
      "outputs": []
    },
    {
      "cell_type": "code",
      "source": [
        "#persistent\n",
        "persistent = random_walk(99999, proba=0.7)"
      ],
      "metadata": {
        "id": "uoeUYXGaBJya"
      },
      "execution_count": 5,
      "outputs": []
    },
    {
      "cell_type": "code",
      "source": [
        "#antipersistent\n",
        "antipersistent = random_walk(99999, proba=0.3)"
      ],
      "metadata": {
        "id": "mPLvnVEnBOM7"
      },
      "execution_count": 6,
      "outputs": []
    },
    {
      "cell_type": "code",
      "source": [
        "#!/usr/bin/env python3\n",
        "# -*- coding: UTF-8 -*-\n",
        "\n",
        "\"\"\"\n",
        "Hurst exponent and RS-analysis\n",
        "https://en.wikipedia.org/wiki/Hurst_exponent\n",
        "https://en.wikipedia.org/wiki/Rescaled_range\n",
        "\"\"\"\n",
        "\n",
        "name = \"hurst\"\n",
        "__version__ = '0.0.5'\n",
        "\n",
        "import sys\n",
        "import math\n",
        "import warnings\n",
        "import numpy as np\n",
        "try:\n",
        "    import pandas as pd\n",
        "except:\n",
        "    pass\n",
        "\n",
        "def __to_inc(x):\n",
        "    incs = x[1:] - x[:-1]\n",
        "    return incs\n",
        "\n",
        "def __to_pct(x):\n",
        "    pcts = x[1:] / x[:-1] - 1.\n",
        "    return pcts\n",
        "\n",
        "def __get_simplified_RS(series, kind):\n",
        "    \"\"\"\n",
        "    Simplified version of rescaled range\n",
        "\n",
        "    Parameters\n",
        "    ----------\n",
        "\n",
        "    series : array-like\n",
        "        (Time-)series\n",
        "    kind : str\n",
        "        The kind of series (refer to compute_Hc docstring)\n",
        "    \"\"\"\n",
        "\n",
        "    if kind == 'random_walk':\n",
        "        incs = __to_inc(series)\n",
        "        R = max(series) - min(series)  # range in absolute values\n",
        "        S = np.std(incs, ddof=1)\n",
        "    elif kind == 'price':\n",
        "        pcts = __to_pct(series)\n",
        "        R = max(series) / min(series) - 1. # range in percent\n",
        "        S = np.std(pcts, ddof=1)\n",
        "    elif kind == 'change':\n",
        "        incs = series\n",
        "        _series = np.hstack([[0.],np.cumsum(incs)])\n",
        "        R = max(_series) - min(_series)  # range in absolute values\n",
        "        S = np.std(incs, ddof=1)\n",
        "\n",
        "    if R == 0 or S == 0:\n",
        "        return 0  # return 0 to skip this interval due the undefined R/S ratio\n",
        "\n",
        "    return R / S\n",
        "\n",
        "def __get_RS(series, kind):\n",
        "    \"\"\"\n",
        "    Get rescaled range (using the range of cumulative sum\n",
        "    of deviations instead of the range of a series as in the simplified version\n",
        "    of R/S) from a time-series of values.\n",
        "\n",
        "    Parameters\n",
        "    ----------\n",
        "\n",
        "    series : array-like\n",
        "        (Time-)series\n",
        "    kind : str\n",
        "        The kind of series (refer to compute_Hc docstring)\n",
        "    \"\"\"\n",
        "\n",
        "    if kind == 'random_walk':\n",
        "        incs = __to_inc(series)\n",
        "        mean_inc = (series[-1] - series[0]) / len(incs)\n",
        "        deviations = incs - mean_inc\n",
        "        Z = np.cumsum(deviations)\n",
        "        R = max(Z) - min(Z)\n",
        "        S = np.std(incs, ddof=1)\n",
        "\n",
        "    elif kind == 'price':\n",
        "        incs = __to_pct(series)\n",
        "        mean_inc = np.sum(incs) / len(incs)\n",
        "        deviations = incs - mean_inc\n",
        "        Z = np.cumsum(deviations)\n",
        "        R = max(Z) - min(Z)\n",
        "        S = np.std(incs, ddof=1)\n",
        "\n",
        "    elif kind == 'change':\n",
        "        incs = series\n",
        "        mean_inc = np.sum(incs) / len(incs)\n",
        "        deviations = incs - mean_inc\n",
        "        Z = np.cumsum(deviations)\n",
        "        R = max(Z) - min(Z)\n",
        "        S = np.std(incs, ddof=1)\n",
        "\n",
        "    if R == 0 or S == 0:\n",
        "        return 0  # return 0 to skip this interval due undefined R/S\n",
        "\n",
        "    return R / S\n",
        "\n",
        "def compute_Hc(series, kind=\"random_walk\", min_window=10, max_window=None, simplified=True):\n",
        "    \"\"\"\n",
        "    Compute H (Hurst exponent) and C according to Hurst equation:\n",
        "    E(R/S) = c * T^H\n",
        "\n",
        "    Refer to:\n",
        "    https://en.wikipedia.org/wiki/Hurst_exponent\n",
        "    https://en.wikipedia.org/wiki/Rescaled_range\n",
        "    https://en.wikipedia.org/wiki/Random_walk\n",
        "\n",
        "    Parameters\n",
        "    ----------\n",
        "\n",
        "    series : array-like\n",
        "        (Time-)series\n",
        "\n",
        "    kind : str\n",
        "        Kind of series\n",
        "        possible values are 'random_walk', 'change' and 'price':\n",
        "        - 'random_walk' means that a series is a random walk with random increments;\n",
        "        - 'price' means that a series is a random walk with random multipliers;\n",
        "        - 'change' means that a series consists of random increments\n",
        "            (thus produced random walk is a cumulative sum of increments);\n",
        "\n",
        "    min_window : int, default 10\n",
        "        the minimal window size for R/S calculation\n",
        "\n",
        "    max_window : int, default is the length of series minus 1\n",
        "        the maximal window size for R/S calculation\n",
        "\n",
        "    simplified : bool, default True\n",
        "        whether to use the simplified or the original version of R/S calculation\n",
        "\n",
        "    Returns tuple of\n",
        "        H, c and data\n",
        "        where H and c — parameters or Hurst equation\n",
        "        and data is a list of 2 lists: time intervals and R/S-values for correspoding time interval\n",
        "        for further plotting log(data[0]) on X and log(data[1]) on Y\n",
        "    \"\"\"\n",
        "\n",
        "    if len(series)<100:\n",
        "        raise ValueError(\"Series length must be greater or equal to 100\")\n",
        "\n",
        "    ndarray_likes = [np.ndarray]\n",
        "    if \"pandas.core.series\" in sys.modules.keys():\n",
        "        ndarray_likes.append(pd.core.series.Series)\n",
        "\n",
        "    # convert series to numpy array if series is not numpy array or pandas Series\n",
        "    if type(series) not in ndarray_likes:\n",
        "        series = np.array(series)\n",
        "\n",
        "    if \"pandas.core.series\" in sys.modules.keys() and type(series) == pd.core.series.Series:\n",
        "        if series.isnull().values.any():\n",
        "            raise ValueError(\"Series contains NaNs\")\n",
        "        series = series.values  # convert pandas Series to numpy array\n",
        "    elif np.isnan(np.min(series)):\n",
        "        raise ValueError(\"Series contains NaNs\")\n",
        "\n",
        "    if simplified:\n",
        "        RS_func = __get_simplified_RS\n",
        "    else:\n",
        "        RS_func = __get_RS\n",
        "\n",
        "\n",
        "    err = np.geterr()\n",
        "    np.seterr(all='raise')\n",
        "\n",
        "    max_window = max_window or len(series)-1\n",
        "    window_sizes = list(map(\n",
        "        lambda x: int(10**x),\n",
        "        np.arange(math.log10(min_window), math.log10(max_window), 0.25)))\n",
        "    window_sizes.append(len(series))\n",
        "\n",
        "    RS = []\n",
        "    for w in window_sizes:\n",
        "        rs = []\n",
        "        for start in range(0, len(series), w):\n",
        "            if (start+w)>len(series):\n",
        "                break\n",
        "            _ = RS_func(series[start:start+w], kind)\n",
        "            if _ != 0:\n",
        "                rs.append(_)\n",
        "        RS.append(np.mean(rs))\n",
        "\n",
        "    A = np.vstack([np.log10(window_sizes), np.ones(len(RS))]).T\n",
        "    H, c = np.linalg.lstsq(A, np.log10(RS), rcond=-1)[0]\n",
        "    np.seterr(**err)\n",
        "\n",
        "    c = 10**c\n",
        "    return H, c, [window_sizes, RS]\n",
        "\n",
        "def random_walk(length, proba=0.5, min_lookback=1, max_lookback=100, cumprod=False):\n",
        "    \"\"\"\n",
        "    Generates a random walk series\n",
        "\n",
        "    Parameters\n",
        "    ----------\n",
        "\n",
        "    proba : float, default 0.5\n",
        "        the probability that the next increment will follow the trend.\n",
        "        Set proba > 0.5 for the persistent random walk,\n",
        "        set proba < 0.5 for the antipersistent one\n",
        "\n",
        "    min_lookback: int, default 1\n",
        "    max_lookback: int, default 100\n",
        "        minimum and maximum window sizes to calculate trend direction\n",
        "    cumprod : bool, default False\n",
        "        generate a random walk as a cumulative product instead of cumulative sum\n",
        "    \"\"\"\n",
        "\n",
        "    assert(min_lookback>=1)\n",
        "    assert(max_lookback>=min_lookback)\n",
        "\n",
        "    if max_lookback > length:\n",
        "        max_lookback = length\n",
        "        warnings.warn(\"max_lookback parameter has been set to the length of the random walk series.\")\n",
        "\n",
        "    if not cumprod:  # ordinary increments\n",
        "        series = [0.] * length  # array of prices\n",
        "        for i in range(1, length):\n",
        "            if i < min_lookback + 1:\n",
        "                direction = np.sign(np.random.randn())\n",
        "            else:\n",
        "                lookback = np.random.randint(min_lookback, min(i-1, max_lookback)+1)\n",
        "                direction = np.sign(series[i-1] - series[i-1-lookback]) * np.sign(proba - np.random.uniform())\n",
        "            series[i] = series[i-1] + np.fabs(np.random.randn()) * direction\n",
        "    else:  # percent changes\n",
        "        series = [1.] * length  # array of prices\n",
        "        for i in range(1, length):\n",
        "            if i < min_lookback + 1:\n",
        "                direction = np.sign(np.random.randn())\n",
        "            else:\n",
        "                lookback = np.random.randint(min_lookback, min(i-1, max_lookback)+1)\n",
        "                direction = np.sign(series[i-1] / series[i-1-lookback] - 1.) * np.sign(proba - np.random.uniform())\n",
        "            series[i] = series[i-1] * np.fabs(1 + np.random.randn()/1000. * direction)\n",
        "\n",
        "    return series\n",
        "\n",
        "\n",
        "if __name__ == '__main__':\n",
        "\n",
        "    # Use random_walk() function or generate a random walk series manually:\n",
        "    # series = random_walk(99999, cumprod=True)\n",
        "    np.random.seed(42)\n",
        "    random_changes = 1. + np.random.randn(99999) / 1000.\n",
        "    series = np.cumprod(random_changes)  # create a random walk from random changes\n",
        "\n",
        "    # Evaluate Hurst equation\n",
        "    H, c, data = compute_Hc(series, kind='price', simplified=True)\n",
        "\n",
        "    # Plot\n",
        "    # uncomment the following to make a plot using Matplotlib:\n",
        "    \"\"\"\n",
        "    import matplotlib.pyplot as plt\n",
        "\n",
        "    f, ax = plt.subplots()\n",
        "    ax.plot(data[0], c*data[0]**H, color=\"deepskyblue\")\n",
        "    ax.scatter(data[0], data[1], color=\"purple\")\n",
        "    ax.set_xscale('log')\n",
        "    ax.set_yscale('log')\n",
        "    ax.set_xlabel('Time interval')\n",
        "    ax.set_ylabel('R/S ratio')\n",
        "    ax.grid(True)\n",
        "    plt.show()\n",
        "    \"\"\"\n",
        "\n",
        "    print(\"H={:.4f}, c={:.4f}\".format(H,c))\n",
        "    assert H<0.6 and H>0.4\n"
      ],
      "metadata": {
        "colab": {
          "base_uri": "https://localhost:8080/"
        },
        "id": "FJtPv05iBZza",
        "outputId": "81d3465d-7394-410d-e1d5-45ef5636e75b"
      },
      "execution_count": 7,
      "outputs": [
        {
          "output_type": "stream",
          "name": "stdout",
          "text": [
            "H=0.5183, c=1.3587\n"
          ]
        }
      ]
    },
    {
      "cell_type": "code",
      "source": [
        "!pip install yfinance\n",
        "!pip install fix_yahoo_finance"
      ],
      "metadata": {
        "colab": {
          "base_uri": "https://localhost:8080/"
        },
        "id": "sQ7-vxNWD7OY",
        "outputId": "43f2793b-2ef9-44c3-af63-1ff4a7302e3b"
      },
      "execution_count": 8,
      "outputs": [
        {
          "output_type": "stream",
          "name": "stdout",
          "text": [
            "Looking in indexes: https://pypi.org/simple, https://us-python.pkg.dev/colab-wheels/public/simple/\n",
            "Collecting yfinance\n",
            "  Downloading yfinance-0.1.74-py2.py3-none-any.whl (27 kB)\n",
            "Requirement already satisfied: numpy>=1.15 in /usr/local/lib/python3.7/dist-packages (from yfinance) (1.21.6)\n",
            "Requirement already satisfied: lxml>=4.5.1 in /usr/local/lib/python3.7/dist-packages (from yfinance) (4.9.1)\n",
            "Requirement already satisfied: multitasking>=0.0.7 in /usr/local/lib/python3.7/dist-packages (from yfinance) (0.0.11)\n",
            "Collecting requests>=2.26\n",
            "  Downloading requests-2.28.1-py3-none-any.whl (62 kB)\n",
            "\u001b[K     |████████████████████████████████| 62 kB 1.2 MB/s \n",
            "\u001b[?25hRequirement already satisfied: pandas>=0.24.0 in /usr/local/lib/python3.7/dist-packages (from yfinance) (1.3.5)\n",
            "Requirement already satisfied: pytz>=2017.3 in /usr/local/lib/python3.7/dist-packages (from pandas>=0.24.0->yfinance) (2022.1)\n",
            "Requirement already satisfied: python-dateutil>=2.7.3 in /usr/local/lib/python3.7/dist-packages (from pandas>=0.24.0->yfinance) (2.8.2)\n",
            "Requirement already satisfied: six>=1.5 in /usr/local/lib/python3.7/dist-packages (from python-dateutil>=2.7.3->pandas>=0.24.0->yfinance) (1.15.0)\n",
            "Requirement already satisfied: certifi>=2017.4.17 in /usr/local/lib/python3.7/dist-packages (from requests>=2.26->yfinance) (2022.6.15)\n",
            "Requirement already satisfied: charset-normalizer<3,>=2 in /usr/local/lib/python3.7/dist-packages (from requests>=2.26->yfinance) (2.1.0)\n",
            "Requirement already satisfied: urllib3<1.27,>=1.21.1 in /usr/local/lib/python3.7/dist-packages (from requests>=2.26->yfinance) (1.24.3)\n",
            "Requirement already satisfied: idna<4,>=2.5 in /usr/local/lib/python3.7/dist-packages (from requests>=2.26->yfinance) (2.10)\n",
            "Installing collected packages: requests, yfinance\n",
            "  Attempting uninstall: requests\n",
            "    Found existing installation: requests 2.23.0\n",
            "    Uninstalling requests-2.23.0:\n",
            "      Successfully uninstalled requests-2.23.0\n",
            "Successfully installed requests-2.28.1 yfinance-0.1.74\n",
            "Looking in indexes: https://pypi.org/simple, https://us-python.pkg.dev/colab-wheels/public/simple/\n",
            "Requirement already satisfied: fix_yahoo_finance in /usr/local/lib/python3.7/dist-packages (0.0.22)\n",
            "Requirement already satisfied: pandas in /usr/local/lib/python3.7/dist-packages (from fix_yahoo_finance) (1.3.5)\n",
            "Requirement already satisfied: numpy in /usr/local/lib/python3.7/dist-packages (from fix_yahoo_finance) (1.21.6)\n",
            "Requirement already satisfied: requests in /usr/local/lib/python3.7/dist-packages (from fix_yahoo_finance) (2.28.1)\n",
            "Requirement already satisfied: multitasking in /usr/local/lib/python3.7/dist-packages (from fix_yahoo_finance) (0.0.11)\n",
            "Requirement already satisfied: pytz>=2017.3 in /usr/local/lib/python3.7/dist-packages (from pandas->fix_yahoo_finance) (2022.1)\n",
            "Requirement already satisfied: python-dateutil>=2.7.3 in /usr/local/lib/python3.7/dist-packages (from pandas->fix_yahoo_finance) (2.8.2)\n",
            "Requirement already satisfied: six>=1.5 in /usr/local/lib/python3.7/dist-packages (from python-dateutil>=2.7.3->pandas->fix_yahoo_finance) (1.15.0)\n",
            "Requirement already satisfied: charset-normalizer<3,>=2 in /usr/local/lib/python3.7/dist-packages (from requests->fix_yahoo_finance) (2.1.0)\n",
            "Requirement already satisfied: urllib3<1.27,>=1.21.1 in /usr/local/lib/python3.7/dist-packages (from requests->fix_yahoo_finance) (1.24.3)\n",
            "Requirement already satisfied: idna<4,>=2.5 in /usr/local/lib/python3.7/dist-packages (from requests->fix_yahoo_finance) (2.10)\n",
            "Requirement already satisfied: certifi>=2017.4.17 in /usr/local/lib/python3.7/dist-packages (from requests->fix_yahoo_finance) (2022.6.15)\n"
          ]
        }
      ]
    },
    {
      "cell_type": "code",
      "source": [
        "import pandas\n",
        "from pandas_datareader import data as pdr\n",
        "import yfinance as yfin\n",
        "yfin.pdr_override()\n",
        "import numpy as np\n",
        "from statsmodels.tsa.stattools import adfuller\n",
        "pd.core.common.is_list_like = pd.api.types.is_list_like\n",
        "import matplotlib.pyplot as plt\n",
        "from numpy import cumsum, log, polyfit, sqrt, std, subtract\n",
        "from datetime import datetime\n",
        "import time\n",
        "%matplotlib inline\n",
        "from dateutil import parser\n",
        "start, end = datetime(1900, 1, 3), datetime(2022, 8, 4)\n",
        "\n",
        "\n",
        "spy = pdr.get_data_yahoo(['^GSPC'], start,  end)\n",
        "spy.columns = [col[0].lower().replace(' ', '_')\n",
        "                for col in spy.columns]\n",
        "\n"
      ],
      "metadata": {
        "colab": {
          "base_uri": "https://localhost:8080/"
        },
        "id": "j-ph1xsWCzkR",
        "outputId": "4c09ae96-8fd9-4e35-8c5f-aee07e6cc120"
      },
      "execution_count": 49,
      "outputs": [
        {
          "output_type": "stream",
          "name": "stdout",
          "text": [
            "\r[*********************100%***********************]  1 of 1 completed\n"
          ]
        }
      ]
    },
    {
      "cell_type": "code",
      "source": [
        "spy"
      ],
      "metadata": {
        "colab": {
          "base_uri": "https://localhost:8080/",
          "height": 455
        },
        "id": "fNOPSxo6qYdo",
        "outputId": "c527ff68-7be0-4914-826f-34026327152c"
      },
      "execution_count": 50,
      "outputs": [
        {
          "output_type": "execute_result",
          "data": {
            "text/plain": [
              "                      o            h            l            c            a  \\\n",
              "Date                                                                          \n",
              "1927-12-30    17.660000    17.660000    17.660000    17.660000    17.660000   \n",
              "1928-01-03    17.760000    17.760000    17.760000    17.760000    17.760000   \n",
              "1928-01-04    17.719999    17.719999    17.719999    17.719999    17.719999   \n",
              "1928-01-05    17.549999    17.549999    17.549999    17.549999    17.549999   \n",
              "1928-01-06    17.660000    17.660000    17.660000    17.660000    17.660000   \n",
              "...                 ...          ...          ...          ...          ...   \n",
              "2022-07-28  4026.129883  4078.949951  3992.969971  4072.429932  4072.429932   \n",
              "2022-07-29  4087.330078  4140.149902  4079.219971  4130.290039  4130.290039   \n",
              "2022-08-01  4112.379883  4144.950195  4096.020020  4118.629883  4118.629883   \n",
              "2022-08-02  4104.209961  4140.470215  4079.810059  4091.189941  4091.189941   \n",
              "2022-08-03  4107.959961  4167.660156  4107.959961  4155.169922  4155.169922   \n",
              "\n",
              "                     v  \n",
              "Date                    \n",
              "1927-12-30           0  \n",
              "1928-01-03           0  \n",
              "1928-01-04           0  \n",
              "1928-01-05           0  \n",
              "1928-01-06           0  \n",
              "...                ...  \n",
              "2022-07-28  3882850000  \n",
              "2022-07-29  3817740000  \n",
              "2022-08-01  3540960000  \n",
              "2022-08-02  3880790000  \n",
              "2022-08-03  3544410000  \n",
              "\n",
              "[23761 rows x 6 columns]"
            ],
            "text/html": [
              "\n",
              "  <div id=\"df-a904c2b5-036e-4431-983f-b0b31f42ce78\">\n",
              "    <div class=\"colab-df-container\">\n",
              "      <div>\n",
              "<style scoped>\n",
              "    .dataframe tbody tr th:only-of-type {\n",
              "        vertical-align: middle;\n",
              "    }\n",
              "\n",
              "    .dataframe tbody tr th {\n",
              "        vertical-align: top;\n",
              "    }\n",
              "\n",
              "    .dataframe thead th {\n",
              "        text-align: right;\n",
              "    }\n",
              "</style>\n",
              "<table border=\"1\" class=\"dataframe\">\n",
              "  <thead>\n",
              "    <tr style=\"text-align: right;\">\n",
              "      <th></th>\n",
              "      <th>o</th>\n",
              "      <th>h</th>\n",
              "      <th>l</th>\n",
              "      <th>c</th>\n",
              "      <th>a</th>\n",
              "      <th>v</th>\n",
              "    </tr>\n",
              "    <tr>\n",
              "      <th>Date</th>\n",
              "      <th></th>\n",
              "      <th></th>\n",
              "      <th></th>\n",
              "      <th></th>\n",
              "      <th></th>\n",
              "      <th></th>\n",
              "    </tr>\n",
              "  </thead>\n",
              "  <tbody>\n",
              "    <tr>\n",
              "      <th>1927-12-30</th>\n",
              "      <td>17.660000</td>\n",
              "      <td>17.660000</td>\n",
              "      <td>17.660000</td>\n",
              "      <td>17.660000</td>\n",
              "      <td>17.660000</td>\n",
              "      <td>0</td>\n",
              "    </tr>\n",
              "    <tr>\n",
              "      <th>1928-01-03</th>\n",
              "      <td>17.760000</td>\n",
              "      <td>17.760000</td>\n",
              "      <td>17.760000</td>\n",
              "      <td>17.760000</td>\n",
              "      <td>17.760000</td>\n",
              "      <td>0</td>\n",
              "    </tr>\n",
              "    <tr>\n",
              "      <th>1928-01-04</th>\n",
              "      <td>17.719999</td>\n",
              "      <td>17.719999</td>\n",
              "      <td>17.719999</td>\n",
              "      <td>17.719999</td>\n",
              "      <td>17.719999</td>\n",
              "      <td>0</td>\n",
              "    </tr>\n",
              "    <tr>\n",
              "      <th>1928-01-05</th>\n",
              "      <td>17.549999</td>\n",
              "      <td>17.549999</td>\n",
              "      <td>17.549999</td>\n",
              "      <td>17.549999</td>\n",
              "      <td>17.549999</td>\n",
              "      <td>0</td>\n",
              "    </tr>\n",
              "    <tr>\n",
              "      <th>1928-01-06</th>\n",
              "      <td>17.660000</td>\n",
              "      <td>17.660000</td>\n",
              "      <td>17.660000</td>\n",
              "      <td>17.660000</td>\n",
              "      <td>17.660000</td>\n",
              "      <td>0</td>\n",
              "    </tr>\n",
              "    <tr>\n",
              "      <th>...</th>\n",
              "      <td>...</td>\n",
              "      <td>...</td>\n",
              "      <td>...</td>\n",
              "      <td>...</td>\n",
              "      <td>...</td>\n",
              "      <td>...</td>\n",
              "    </tr>\n",
              "    <tr>\n",
              "      <th>2022-07-28</th>\n",
              "      <td>4026.129883</td>\n",
              "      <td>4078.949951</td>\n",
              "      <td>3992.969971</td>\n",
              "      <td>4072.429932</td>\n",
              "      <td>4072.429932</td>\n",
              "      <td>3882850000</td>\n",
              "    </tr>\n",
              "    <tr>\n",
              "      <th>2022-07-29</th>\n",
              "      <td>4087.330078</td>\n",
              "      <td>4140.149902</td>\n",
              "      <td>4079.219971</td>\n",
              "      <td>4130.290039</td>\n",
              "      <td>4130.290039</td>\n",
              "      <td>3817740000</td>\n",
              "    </tr>\n",
              "    <tr>\n",
              "      <th>2022-08-01</th>\n",
              "      <td>4112.379883</td>\n",
              "      <td>4144.950195</td>\n",
              "      <td>4096.020020</td>\n",
              "      <td>4118.629883</td>\n",
              "      <td>4118.629883</td>\n",
              "      <td>3540960000</td>\n",
              "    </tr>\n",
              "    <tr>\n",
              "      <th>2022-08-02</th>\n",
              "      <td>4104.209961</td>\n",
              "      <td>4140.470215</td>\n",
              "      <td>4079.810059</td>\n",
              "      <td>4091.189941</td>\n",
              "      <td>4091.189941</td>\n",
              "      <td>3880790000</td>\n",
              "    </tr>\n",
              "    <tr>\n",
              "      <th>2022-08-03</th>\n",
              "      <td>4107.959961</td>\n",
              "      <td>4167.660156</td>\n",
              "      <td>4107.959961</td>\n",
              "      <td>4155.169922</td>\n",
              "      <td>4155.169922</td>\n",
              "      <td>3544410000</td>\n",
              "    </tr>\n",
              "  </tbody>\n",
              "</table>\n",
              "<p>23761 rows × 6 columns</p>\n",
              "</div>\n",
              "      <button class=\"colab-df-convert\" onclick=\"convertToInteractive('df-a904c2b5-036e-4431-983f-b0b31f42ce78')\"\n",
              "              title=\"Convert this dataframe to an interactive table.\"\n",
              "              style=\"display:none;\">\n",
              "        \n",
              "  <svg xmlns=\"http://www.w3.org/2000/svg\" height=\"24px\"viewBox=\"0 0 24 24\"\n",
              "       width=\"24px\">\n",
              "    <path d=\"M0 0h24v24H0V0z\" fill=\"none\"/>\n",
              "    <path d=\"M18.56 5.44l.94 2.06.94-2.06 2.06-.94-2.06-.94-.94-2.06-.94 2.06-2.06.94zm-11 1L8.5 8.5l.94-2.06 2.06-.94-2.06-.94L8.5 2.5l-.94 2.06-2.06.94zm10 10l.94 2.06.94-2.06 2.06-.94-2.06-.94-.94-2.06-.94 2.06-2.06.94z\"/><path d=\"M17.41 7.96l-1.37-1.37c-.4-.4-.92-.59-1.43-.59-.52 0-1.04.2-1.43.59L10.3 9.45l-7.72 7.72c-.78.78-.78 2.05 0 2.83L4 21.41c.39.39.9.59 1.41.59.51 0 1.02-.2 1.41-.59l7.78-7.78 2.81-2.81c.8-.78.8-2.07 0-2.86zM5.41 20L4 18.59l7.72-7.72 1.47 1.35L5.41 20z\"/>\n",
              "  </svg>\n",
              "      </button>\n",
              "      \n",
              "  <style>\n",
              "    .colab-df-container {\n",
              "      display:flex;\n",
              "      flex-wrap:wrap;\n",
              "      gap: 12px;\n",
              "    }\n",
              "\n",
              "    .colab-df-convert {\n",
              "      background-color: #E8F0FE;\n",
              "      border: none;\n",
              "      border-radius: 50%;\n",
              "      cursor: pointer;\n",
              "      display: none;\n",
              "      fill: #1967D2;\n",
              "      height: 32px;\n",
              "      padding: 0 0 0 0;\n",
              "      width: 32px;\n",
              "    }\n",
              "\n",
              "    .colab-df-convert:hover {\n",
              "      background-color: #E2EBFA;\n",
              "      box-shadow: 0px 1px 2px rgba(60, 64, 67, 0.3), 0px 1px 3px 1px rgba(60, 64, 67, 0.15);\n",
              "      fill: #174EA6;\n",
              "    }\n",
              "\n",
              "    [theme=dark] .colab-df-convert {\n",
              "      background-color: #3B4455;\n",
              "      fill: #D2E3FC;\n",
              "    }\n",
              "\n",
              "    [theme=dark] .colab-df-convert:hover {\n",
              "      background-color: #434B5C;\n",
              "      box-shadow: 0px 1px 3px 1px rgba(0, 0, 0, 0.15);\n",
              "      filter: drop-shadow(0px 1px 2px rgba(0, 0, 0, 0.3));\n",
              "      fill: #FFFFFF;\n",
              "    }\n",
              "  </style>\n",
              "\n",
              "      <script>\n",
              "        const buttonEl =\n",
              "          document.querySelector('#df-a904c2b5-036e-4431-983f-b0b31f42ce78 button.colab-df-convert');\n",
              "        buttonEl.style.display =\n",
              "          google.colab.kernel.accessAllowed ? 'block' : 'none';\n",
              "\n",
              "        async function convertToInteractive(key) {\n",
              "          const element = document.querySelector('#df-a904c2b5-036e-4431-983f-b0b31f42ce78');\n",
              "          const dataTable =\n",
              "            await google.colab.kernel.invokeFunction('convertToInteractive',\n",
              "                                                     [key], {});\n",
              "          if (!dataTable) return;\n",
              "\n",
              "          const docLinkHtml = 'Like what you see? Visit the ' +\n",
              "            '<a target=\"_blank\" href=https://colab.research.google.com/notebooks/data_table.ipynb>data table notebook</a>'\n",
              "            + ' to learn more about interactive tables.';\n",
              "          element.innerHTML = '';\n",
              "          dataTable['output_type'] = 'display_data';\n",
              "          await google.colab.output.renderOutput(dataTable, element);\n",
              "          const docLink = document.createElement('div');\n",
              "          docLink.innerHTML = docLinkHtml;\n",
              "          element.appendChild(docLink);\n",
              "        }\n",
              "      </script>\n",
              "    </div>\n",
              "  </div>\n",
              "  "
            ]
          },
          "metadata": {},
          "execution_count": 50
        }
      ]
    },
    {
      "cell_type": "code",
      "source": [
        "spy_close = spy[['a']]\n",
        "\n",
        "_ = spy_close.plot(figsize=(20, 10),\n",
        "                    linewidth=3,\n",
        "                    fontsize=14)\n",
        "\n",
        "from numpy import cumsum, log, polyfit, sqrt, std, subtract\n",
        "import seaborn as sns\n",
        "sns.set();\n",
        "spy_close = spy[['a']].copy()\n",
        "lag1, lag2  = 2, 20\n",
        "lags = range(lag1, lag2)\n",
        "tau = [sqrt(std(subtract(spy_close[lag:], spy_close[:-lag]))) for lag in lags]\n",
        "m = polyfit(log(lags), log(tau), 1)\n",
        "hurst = m[0]*2\n",
        "print( 'hurst = ',hurst[0])"
      ],
      "metadata": {
        "id": "IEt-svgzG-OV",
        "colab": {
          "base_uri": "https://localhost:8080/",
          "height": 492
        },
        "outputId": "52ae5756-f28f-41b3-f1f3-91bd7571ec39"
      },
      "execution_count": 51,
      "outputs": [
        {
          "output_type": "stream",
          "name": "stderr",
          "text": [
            "/usr/local/lib/python3.7/dist-packages/ipykernel_launcher.py:13: FutureWarning: Calling a ufunc on non-aligned DataFrames (or DataFrame/Series combination). Currently, the indices are ignored and the result takes the index/columns of the first DataFrame. In the future , the DataFrames/Series will be aligned before applying the ufunc.\n",
            "Convert one of the arguments to a NumPy array (eg 'ufunc(df1, np.asarray(df2)') to keep the current behaviour, or align manually (eg 'df1, df2 = df1.align(df2)') before passing to the ufunc to obtain the future behaviour and silence this warning.\n",
            "  del sys.path[0]\n"
          ]
        },
        {
          "output_type": "stream",
          "name": "stdout",
          "text": [
            "hurst =  0.472766664249629\n"
          ]
        },
        {
          "output_type": "display_data",
          "data": {
            "text/plain": [
              "<Figure size 1440x720 with 1 Axes>"
            ],
            "image/png": "[encoded data removed]"
          },
          "metadata": {
            "needs_background": "light"
          }
        }
      ]
    }
  ]
}